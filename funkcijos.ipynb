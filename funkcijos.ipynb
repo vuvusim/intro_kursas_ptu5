{
 "cells": [
  {
   "cell_type": "markdown",
   "metadata": {},
   "source": [
    "# Fynkcijos"
   ]
  },
  {
   "cell_type": "code",
   "execution_count": 3,
   "metadata": {},
   "outputs": [],
   "source": [
    "# funkcijos sukurimas (tuscia funkcija)\n",
    "def tuscia_funkcija():\n",
    "    pass\n",
    "\n",
    "# funkcijos sukurimas\n",
    "def pasisveikinimas():\n",
    "    print(\"Labas!\")\n",
    "\n",
    "def besikartojantis_pasisveikinimas(kiek_kartu):\n",
    "    print(f\"Labas {kiek_kartu} karta\")\n",
    "\n",
    "def vardinis_pasisveikinimas(vardas):\n",
    "    print(f\"Labas {vardas}!\")\n"
   ]
  },
  {
   "cell_type": "code",
   "execution_count": 4,
   "metadata": {},
   "outputs": [],
   "source": [
    "tuscia_funkcija()"
   ]
  },
  {
   "cell_type": "code",
   "execution_count": 5,
   "metadata": {},
   "outputs": [
    {
     "name": "stdout",
     "output_type": "stream",
     "text": [
      "Labas!\n"
     ]
    }
   ],
   "source": [
    "# funkcijnos paleidimas kad ir daug kartu\n",
    "pasisveikinimas()"
   ]
  },
  {
   "cell_type": "code",
   "execution_count": 6,
   "metadata": {},
   "outputs": [
    {
     "name": "stdout",
     "output_type": "stream",
     "text": [
      "Labas!\n",
      "Labas!\n",
      "Labas!\n",
      "Labas!\n",
      "Labas!\n"
     ]
    }
   ],
   "source": [
    "for kiek_kartu in range(5):\n",
    "    pasisveikinimas()"
   ]
  },
  {
   "cell_type": "code",
   "execution_count": 7,
   "metadata": {},
   "outputs": [
    {
     "name": "stdout",
     "output_type": "stream",
     "text": [
      "Labas 1 karta\n",
      "Labas 2 karta\n",
      "Labas 3 karta\n",
      "Labas 4 karta\n",
      "Labas 5 karta\n"
     ]
    }
   ],
   "source": [
    "for kiek_kartu in range(5):\n",
    "    besikartojantis_pasisveikinimas(kiek_kartu+1)"
   ]
  },
  {
   "cell_type": "code",
   "execution_count": 8,
   "metadata": {},
   "outputs": [],
   "source": [
    "# def vardinis_pasisveikinimas(vardas):\n",
    "#     print(f\"Labas {vardas}!\")\n",
    "\n",
    "# vardas = input(\"koks tavo vardas?:\")\n",
    "# vardinis_pasisveikinimas(vardas)"
   ]
  },
  {
   "cell_type": "markdown",
   "metadata": {},
   "source": [
    "# Matematines funkcijos"
   ]
  },
  {
   "cell_type": "code",
   "execution_count": 9,
   "metadata": {},
   "outputs": [
    {
     "name": "stdout",
     "output_type": "stream",
     "text": [
      "49\n"
     ]
    }
   ],
   "source": [
    "def kvadratu(skaicius):\n",
    "    print(skaicius**2)\n",
    "kvadratu(7)"
   ]
  },
  {
   "cell_type": "markdown",
   "metadata": {},
   "source": [
    "# Funkcijos grazinancios rezultata"
   ]
  },
  {
   "cell_type": "code",
   "execution_count": 10,
   "metadata": {},
   "outputs": [
    {
     "name": "stdout",
     "output_type": "stream",
     "text": [
      "36\n",
      "funkcijos rezultatas:  49\n",
      "funkcijos rezultatas:  2401\n",
      "sudauginta:  50\n"
     ]
    }
   ],
   "source": [
    "def kvadratu(skaicius):\n",
    "    rezultatas = skaicius**2\n",
    "    return rezultatas\n",
    "\n",
    "# soausdina funkcijos rezultata\n",
    "print(kvadratu(6))\n",
    "\n",
    "# funkcijos rezultato panaudojimas\n",
    "rez = kvadratu(7)\n",
    "print(\"funkcijos rezultatas: \", rez)\n",
    "\n",
    "#funkcijos koda panaudojam kitai (arbna tai paciai) funkcijai kaip argumenta\n",
    "rez2 = kvadratu(rez)\n",
    "print(\"funkcijos rezultatas: \", rez2)\n",
    "\n",
    "# funkcijos rezultata panaudojam kitame kode\n",
    "sudauginta = kvadratu(5) * 2\n",
    "print(\"sudauginta: \", sudauginta)"
   ]
  },
  {
   "cell_type": "code",
   "execution_count": 11,
   "metadata": {},
   "outputs": [
    {
     "name": "stdout",
     "output_type": "stream",
     "text": [
      "bananas\n"
     ]
    }
   ],
   "source": [
    "def sukurti_banana():\n",
    "    bananas = \"bananas\"\n",
    "    return bananas\n",
    "\n",
    "vaisius = sukurti_banana()\n",
    "print(vaisius)"
   ]
  },
  {
   "cell_type": "code",
   "execution_count": 12,
   "metadata": {},
   "outputs": [
    {
     "name": "stdout",
     "output_type": "stream",
     "text": [
      "15 bananu\n"
     ]
    }
   ],
   "source": [
    "def sukurti_banana(kiekis):\n",
    "    bananas = f\"{kiekis} bananu\"\n",
    "    return bananas\n",
    "\n",
    "vaisius = sukurti_banana(15)\n",
    "print(vaisius)"
   ]
  },
  {
   "cell_type": "markdown",
   "metadata": {},
   "source": [
    "# Funkcijos su keliais argumentais\n"
   ]
  },
  {
   "cell_type": "code",
   "execution_count": 13,
   "metadata": {},
   "outputs": [
    {
     "name": "stdout",
     "output_type": "stream",
     "text": [
      "8\n"
     ]
    }
   ],
   "source": [
    "def keliam_laipsniu(skaicius, laipsnis):\n",
    "    return skaicius ** laipsnis\n",
    "\n",
    "print(keliam_laipsniu(2, 3))"
   ]
  },
  {
   "cell_type": "markdown",
   "metadata": {},
   "source": [
    "# Funkcijos su nebutinais argumentais\n"
   ]
  },
  {
   "cell_type": "code",
   "execution_count": 14,
   "metadata": {},
   "outputs": [
    {
     "name": "stdout",
     "output_type": "stream",
     "text": [
      "8\n",
      "32\n",
      "32\n"
     ]
    }
   ],
   "source": [
    "# nebutini argumentai turi visada eiti po butinu argumentu (kitaip neveiks)\n",
    "def keliam_laipsniu(skaicius=2, laipsnis=5): # laipsnis=2 pagal nutilejima kelia kvadratu (jei irasom kokiu laipsniu tada nutilejimas dingsta)\n",
    "    return skaicius ** laipsnis\n",
    "\n",
    "print(keliam_laipsniu(2, 3))\n",
    "\n",
    "# pagal nutilejima argumentas =5\n",
    "print(keliam_laipsniu(2))\n",
    "\n",
    "# pagal nutileji butinas argumentas =2 nebutinas =5\n",
    "print(keliam_laipsniu())"
   ]
  },
  {
   "cell_type": "code",
   "execution_count": 15,
   "metadata": {},
   "outputs": [
    {
     "name": "stdout",
     "output_type": "stream",
     "text": [
      "6\n",
      "7\n",
      "8\n",
      "0\n"
     ]
    }
   ],
   "source": [
    "def sumuojam(s1=1, s2=2, s3=3):\n",
    "    return s1 + s2 + s3\n",
    "    \n",
    "print(sumuojam())\n",
    "\n",
    "print(sumuojam(2))\n",
    "\n",
    "print(sumuojam(2, 3))\n",
    "\n",
    "print(sumuojam(3, 3, -6))"
   ]
  },
  {
   "cell_type": "code",
   "execution_count": 16,
   "metadata": {},
   "outputs": [
    {
     "name": "stdout",
     "output_type": "stream",
     "text": [
      "suo, laika, spalva: pilksva, 4 kojos\n",
      "suo, taksas, spalva: juoda, 4 kojos\n",
      "voras, juodasis, spalva: juoda, 6 kojos\n",
      "pele, ziurke, spalva: pilka, 4 kojos\n"
     ]
    }
   ],
   "source": [
    "def gyvunas(rusis, veisle, spalva=\"juoda\", kojos=4):\n",
    "    return f\"{rusis}, {veisle}, spalva: {spalva}, {kojos} kojos\"\n",
    "\n",
    "print(gyvunas(\"suo\", \"laika\", \"pilksva\"))\n",
    "\n",
    "print(gyvunas(\"suo\", \"taksas\"))\n",
    "\n",
    "#kadangi mums reikia nusirodyti kojas, mes turime nusirodyti ir spalva, nesvarbu kad ji sutampa su standartine reiksme\n",
    "print(gyvunas(\"voras\", \"juodasis\", \"juoda\", 6))\n",
    "\n",
    "print(gyvunas(\"pele\", \"ziurke\", \"pilka\"))\n"
   ]
  },
  {
   "cell_type": "code",
   "execution_count": 17,
   "metadata": {},
   "outputs": [
    {
     "name": "stdout",
     "output_type": "stream",
     "text": [
      "pele, ziurke, spalva: pilka, 4 kojos\n",
      "Pele, Ziurke, Spalva: Pilka, 4 Kojos\n",
      "Pele, Ziurke, Spalva: Pilka, 3 Kojos\n",
      "Pele, Ziurke, Spalva: balta, 3 Kojos\n",
      "Pele, Ziurke, Spalva: Balta, 3 Kojos\n"
     ]
    }
   ],
   "source": [
    "ziurke = gyvunas(\"pele\", \"ziurke\", \"pilka\")\n",
    "\n",
    "#spausdina tik rezultata\n",
    "print(ziurke)\n",
    "\n",
    "# spausdina is didziosios raides visus zodzius\n",
    "print(ziurke.title()) \n",
    "\n",
    "# spausdina is didziosios raides visus zodzius ir pakeicia koju skaiciu\n",
    "print(ziurke.title().replace(\"4\", \"3\")) \n",
    "\n",
    "# spausdina is didziosios raides visus zodzius ir pakeicia koju skaiciu ir pakeicia spalva (ZIURETI EILISKUMA)\n",
    "print(ziurke.title().replace(\"4\", \"3\").replace(\"Pilka\", \"balta\")) \n",
    "\n",
    "# spausdina is didziosios raides visus zodzius ir pakeicia koju skaiciu ir pakeicia spalva (ZIURETI EILISKUMA) ir spausdina is didziosios raides visus zodzius\n",
    "print(ziurke.title().replace(\"4\", \"3\").replace(\"Pilka\", \"balta\").title()) "
   ]
  },
  {
   "cell_type": "code",
   "execution_count": 18,
   "metadata": {},
   "outputs": [
    {
     "name": "stdout",
     "output_type": "stream",
     "text": [
      "voras, juodasis, spalva: juoda, 6 kojos\n",
      "voras, juodasis, spalva: juoda, 4 kojos\n",
      "voras, juodasis, spalva: juodas, 4 kojos\n"
     ]
    }
   ],
   "source": [
    "print(gyvunas(\"voras\", \"juodasis\", kojos=6))\n",
    "\n",
    "print(gyvunas(veisle=\"juodasis\", rusis=\"voras\"))\n",
    "\n",
    "print(gyvunas(\"voras\", veisle=\"juodasis\", spalva=\"juodas\"))"
   ]
  },
  {
   "cell_type": "markdown",
   "metadata": {},
   "source": [
    "# Neriboti argumentai\n"
   ]
  },
  {
   "cell_type": "markdown",
   "metadata": {},
   "source": [
    "*args"
   ]
  },
  {
   "cell_type": "code",
   "execution_count": 19,
   "metadata": {},
   "outputs": [],
   "source": [
    "# techniskai patampa sarasu\n",
    "def dauginam_visus(*args):\n",
    "    for skaicius in args:\n",
    "        print(skaicius ** 2)"
   ]
  },
  {
   "cell_type": "code",
   "execution_count": 20,
   "metadata": {},
   "outputs": [
    {
     "name": "stdout",
     "output_type": "stream",
     "text": [
      "4\n",
      "9\n",
      "25\n",
      "49\n",
      "None\n"
     ]
    }
   ],
   "source": [
    "print(dauginam_visus(2, 3, 5, 7))"
   ]
  },
  {
   "cell_type": "code",
   "execution_count": 21,
   "metadata": {},
   "outputs": [
    {
     "name": "stdout",
     "output_type": "stream",
     "text": [
      "4\n",
      "25\n",
      "None\n"
     ]
    }
   ],
   "source": [
    "print(dauginam_visus(2, 5))"
   ]
  },
  {
   "cell_type": "markdown",
   "metadata": {},
   "source": [
    "**kwargs"
   ]
  },
  {
   "cell_type": "code",
   "execution_count": 22,
   "metadata": {},
   "outputs": [],
   "source": [
    "#techniskai patampa zodynu\n",
    "def spausdinam_reiksmes(**kwargs):\n",
    "    for raktas, reiksme in kwargs.items():\n",
    "        print(f\"{raktas}: {reiksme}\")"
   ]
  },
  {
   "cell_type": "code",
   "execution_count": 23,
   "metadata": {},
   "outputs": [],
   "source": [
    "def spausdinam_tik_reiksmes(**kwargs):\n",
    "    for reiksme in kwargs.values():\n",
    "        print(str(reiksme))"
   ]
  },
  {
   "cell_type": "code",
   "execution_count": 24,
   "metadata": {},
   "outputs": [
    {
     "name": "stdout",
     "output_type": "stream",
     "text": [
      "vardas: Simas\n",
      "pavarde: Venskus\n",
      "pareigos: Studentas\n",
      "amzius: 28\n",
      "None\n"
     ]
    }
   ],
   "source": [
    "print(spausdinam_reiksmes(vardas=\"Simas\", pavarde=\"Venskus\", pareigos=\"Studentas\", amzius=28))"
   ]
  },
  {
   "cell_type": "code",
   "execution_count": 25,
   "metadata": {},
   "outputs": [
    {
     "name": "stdout",
     "output_type": "stream",
     "text": [
      "Simas\n",
      "Venskus\n",
      "Studentas\n",
      "28\n",
      "None\n"
     ]
    }
   ],
   "source": [
    "print(spausdinam_tik_reiksmes(vardas=\"Simas\", pavarde=\"Venskus\", pareigos=\"Studentas\", amzius=28))"
   ]
  },
  {
   "cell_type": "code",
   "execution_count": 26,
   "metadata": {},
   "outputs": [
    {
     "name": "stdout",
     "output_type": "stream",
     "text": [
      "vardas: Mama\n",
      "vaikai: ['Jonas', 'Petras', 'Martynas']\n",
      "gyvunai: {'veisle': 'Suo', 'vardas': 'Ciucikas'}\n",
      "None\n"
     ]
    }
   ],
   "source": [
    "print(spausdinam_reiksmes(vardas=\"Mama\", vaikai=[\"Jonas\", \"Petras\", \"Martynas\"], gyvunai={\"veisle\": \"Suo\", \"vardas\": \"Ciucikas\"}))"
   ]
  },
  {
   "cell_type": "markdown",
   "metadata": {},
   "source": [
    "# Mixed arguments"
   ]
  },
  {
   "cell_type": "code",
   "execution_count": 27,
   "metadata": {},
   "outputs": [],
   "source": [
    "def spausdinti_asmenis(vardas, pavarde, amzius=0, *vaikai, **kwargs):\n",
    "    print(f\"{vardas} {pavarde}, amzius: {amzius}, vaikai:\")\n",
    "    for vaikas in vaikai:\n",
    "        print(f\"- {vaikas}\")\n",
    "    print(\"Kita info: \")\n",
    "    for indexas, reiksme in kwargs.items():\n",
    "        print(f\"- {indexas}: {reiksme}\")\n",
    "        "
   ]
  },
  {
   "cell_type": "code",
   "execution_count": 28,
   "metadata": {},
   "outputs": [
    {
     "name": "stdout",
     "output_type": "stream",
     "text": [
      "Geras Veikejas, amzius: 17, vaikai:\n",
      "- Idomuskas\n",
      "- Gerule\n",
      "- Wowsius\n",
      "Kita info: \n",
      "- darbas: Didirio musejas\n",
      "None\n"
     ]
    }
   ],
   "source": [
    "print(spausdinti_asmenis(\"Geras\", \"Veikejas\", 17, \"Idomuskas\", \"Gerule\", \"Wowsius\", darbas=\"Didirio musejas\"))"
   ]
  },
  {
   "cell_type": "code",
   "execution_count": 29,
   "metadata": {},
   "outputs": [
    {
     "name": "stdout",
     "output_type": "stream",
     "text": [
      "Naujas Draugelis, amzius: 0, vaikai:\n",
      "Kita info: \n",
      "- darbas: Furistas\n",
      "- patirtis: 20 metu\n",
      "None\n"
     ]
    }
   ],
   "source": [
    "print(spausdinti_asmenis(\"Naujas\", \"Draugelis\", darbas=\"Furistas\", patirtis=\"20 metu\"))"
   ]
  }
 ],
 "metadata": {
  "kernelspec": {
   "display_name": "Python 3.10.6 ('venv': venv)",
   "language": "python",
   "name": "python3"
  },
  "language_info": {
   "codemirror_mode": {
    "name": "ipython",
    "version": 3
   },
   "file_extension": ".py",
   "mimetype": "text/x-python",
   "name": "python",
   "nbconvert_exporter": "python",
   "pygments_lexer": "ipython3",
   "version": "3.10.6"
  },
  "orig_nbformat": 4,
  "vscode": {
   "interpreter": {
    "hash": "7d75aefa697f010155c3eb0376182af89d34ef69b1de20f8c9d32e6e970aa995"
   }
  }
 },
 "nbformat": 4,
 "nbformat_minor": 2
}
