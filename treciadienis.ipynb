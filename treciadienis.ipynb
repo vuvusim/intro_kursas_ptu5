{
 "cells": [
  {
   "cell_type": "markdown",
   "metadata": {},
   "source": [
    "# Itro bandymas"
   ]
  },
  {
   "cell_type": "code",
   "execution_count": 1,
   "metadata": {},
   "outputs": [
    {
     "name": "stdout",
     "output_type": "stream",
     "text": [
      "14\n"
     ]
    }
   ],
   "source": [
    "skaicius1 = 1\n",
    "skaicius2 = 4\n",
    "skaicius3 = 8\n",
    "skaicius4 = 17\n",
    "\n",
    "rezultatas = skaicius1 + skaicius2 - skaicius3 + skaicius4\n",
    "\n",
    "print(rezultatas)"
   ]
  },
  {
   "cell_type": "markdown",
   "metadata": {},
   "source": [
    "Masyvai (Array)"
   ]
  },
  {
   "cell_type": "code",
   "execution_count": 2,
   "metadata": {},
   "outputs": [
    {
     "name": "stdout",
     "output_type": "stream",
     "text": [
      "14\n"
     ]
    }
   ],
   "source": [
    "skaiciai = [1, 4, 8, 17]\n",
    "rezultatas = skaiciai[0] + skaiciai[1] - skaiciai[2] + skaiciai[3]\n",
    "print(rezultatas)"
   ]
  },
  {
   "cell_type": "code",
   "execution_count": 3,
   "metadata": {},
   "outputs": [
    {
     "name": "stdout",
     "output_type": "stream",
     "text": [
      "[]\n",
      "[1, 4, 8, 17]\n",
      "['Zen', 'of', 'Python']\n",
      "Zen of Python\n",
      "[5, 'labas', True, <class 'list'>, 30, ['Zen', 'of', 'Python'], 'ok', 'veikia']\n"
     ]
    }
   ],
   "source": [
    "tuscias = []\n",
    "zodziai = ['Zen', 'of', 'Python']\n",
    "print(tuscias)\n",
    "print(skaiciai)\n",
    "print(zodziai)\n",
    "print(\" \".join(zodziai)) #per tarpa sujungiam zodziu sarasa\n",
    "\n",
    "misrus = [5, 'labas', True, type(skaiciai), sum(skaiciai), zodziai, 'ok', 'veikia']\n",
    "print(misrus)"
   ]
  },
  {
   "cell_type": "markdown",
   "metadata": {},
   "source": [
    "# Operacijos su sarasais"
   ]
  },
  {
   "cell_type": "code",
   "execution_count": 4,
   "metadata": {},
   "outputs": [
    {
     "name": "stdout",
     "output_type": "stream",
     "text": [
      "Python\n",
      "Py\n",
      "[5, 'labas', True]\n",
      "['veikia', 'ok', ['Zen', 'of', 'Python'], 30, <class 'list'>, True, 'labas', 5]\n",
      "['Zen', 'of', 'Python']\n"
     ]
    }
   ],
   "source": [
    "print(zodziai[2])   # paima trecia elementa (zodi)\n",
    "print(zodziai[2][:2])   # paima trecio zodzio pirmas dvi raides   \n",
    "print(misrus[:3])   # paima pirmus tris saraso elementus\n",
    "print(misrus[::-1])     # paima sarasa nuo galo\n",
    "print(misrus[-3])   # paima antra nuo galo saraso elementa"
   ]
  },
  {
   "cell_type": "code",
   "execution_count": 5,
   "metadata": {},
   "outputs": [
    {
     "name": "stdout",
     "output_type": "stream",
     "text": [
      "Py\n"
     ]
    }
   ],
   "source": [
    "print(misrus[-3][-1][:2])   #is listo paima nuo galo trecia var tada is to var paima trecia zodi ir paima trecio zodzio pirmas dvi raides"
   ]
  },
  {
   "cell_type": "markdown",
   "metadata": {},
   "source": [
    "# Elementu pridejimas"
   ]
  },
  {
   "cell_type": "code",
   "execution_count": 6,
   "metadata": {},
   "outputs": [
    {
     "name": "stdout",
     "output_type": "stream",
     "text": [
      "['Zen', 'of', 'Python', 'and']\n"
     ]
    }
   ],
   "source": [
    "zodziai.append('and')\n",
    "print(zodziai)"
   ]
  },
  {
   "cell_type": "code",
   "execution_count": 7,
   "metadata": {},
   "outputs": [
    {
     "name": "stdout",
     "output_type": "stream",
     "text": [
      "['Zen', 'Programming', 'of', 'Python', 'and']\n"
     ]
    }
   ],
   "source": [
    "zodziai.insert(1, 'Programming')\n",
    "print(zodziai)"
   ]
  },
  {
   "cell_type": "markdown",
   "metadata": {},
   "source": [
    "# Keiciam masyvo elementus"
   ]
  },
  {
   "cell_type": "code",
   "execution_count": 8,
   "metadata": {},
   "outputs": [
    {
     "name": "stdout",
     "output_type": "stream",
     "text": [
      "['Zen', 'Coding', 'of', 'Python', 'and']\n",
      "['Zen', 'Coding', 'of']\n",
      "Python\n",
      "of\n",
      "['Zen', 'Coding']\n"
     ]
    }
   ],
   "source": [
    "zodziai[1] = 'Coding'   # pakeiciam antra zodi is 'programing i 'coding'\n",
    "print(zodziai)\n",
    "zodziai.pop(4)\n",
    "\n",
    "ismestas = zodziai.pop(3)   # ismeta ketvirkta zodi 'and'\n",
    "print(zodziai)\n",
    "print(ismestas)\n",
    "\n",
    "smauglys = zodziai.pop()\n",
    "print(smauglys)\n",
    "\n",
    "coding = zodziai.pop(1)     #perstumiam 'coding' i gala\n",
    "zodziai.append(coding)\n",
    "print(zodziai)"
   ]
  },
  {
   "cell_type": "markdown",
   "metadata": {},
   "source": [
    "# Saraso dydis"
   ]
  },
  {
   "cell_type": "code",
   "execution_count": 9,
   "metadata": {},
   "outputs": [
    {
     "name": "stdout",
     "output_type": "stream",
     "text": [
      "4\n",
      "[1, 4, 8, 17]\n",
      "8\n",
      "2, zodziai: ['Zen', 'Coding']\n"
     ]
    }
   ],
   "source": [
    "print(len(skaiciai))\n",
    "print(skaiciai)\n",
    "print(len(misrus))\n",
    "print(f\"{len(zodziai)}, zodziai: {zodziai}\")\n"
   ]
  },
  {
   "cell_type": "code",
   "execution_count": 10,
   "metadata": {},
   "outputs": [
    {
     "name": "stdout",
     "output_type": "stream",
     "text": [
      "36\n",
      "37\n"
     ]
    }
   ],
   "source": [
    "ilgas = \"supereektramonogramaultrasiautulinga\"\n",
    "print(len(ilgas))\n",
    "ilgesnis = \"nebeprisikiškiakopūsteliaujantiesiems\"\n",
    "print(len(ilgesnis))"
   ]
  },
  {
   "cell_type": "markdown",
   "metadata": {},
   "source": [
    "# Zodynai (Dictionary):\n"
   ]
  },
  {
   "cell_type": "code",
   "execution_count": 11,
   "metadata": {},
   "outputs": [
    {
     "name": "stdout",
     "output_type": "stream",
     "text": [
      "{}\n",
      "{'Simas': 28, 'Linas': 30, 'Ingrida': 30, 'Mantas': 32, 'Darius': 32}\n",
      "30\n",
      "32\n"
     ]
    }
   ],
   "source": [
    "zodynas = {}\n",
    "print(zodynas)\n",
    "# zodyno uzpildymas #1\n",
    "zodynas = {\"Simas\": 28,\"Linas\": 30,\"Ingrida\": 30,\"Mantas\": 32,\"Darius\": 32}\n",
    "# zodyno uzpildymas #2\n",
    "zodynas = {\n",
    "    \"Simas\": 28,\n",
    "    \"Linas\": 30,\n",
    "    \"Ingrida\": 30,\n",
    "    \"Mantas\": 32,\n",
    "    \"Darius\": 32}\n",
    "print(zodynas)\n",
    "# pasiekiam zodyno irasa\n",
    "print(zodynas[\"Ingrida\"])\n",
    "print(zodynas[\"Mantas\"])\n"
   ]
  },
  {
   "cell_type": "code",
   "execution_count": 12,
   "metadata": {},
   "outputs": [
    {
     "name": "stdout",
     "output_type": "stream",
     "text": [
      "{'Gamintojas': 'Jaguar', 'Modelis': 'F-Pace', 'Metai': 2019, 'Variklis': 2.0, 'Kuras': 'Benzinas', 'Spalva': 'Balta'}\n",
      "2019\n",
      "F-Pace\n"
     ]
    }
   ],
   "source": [
    "automobilis = {\"Gamintojas\": \"Jaguar\", \"Modelis\": \"F-Pace\", \"Metai\": 2019, \"Variklis\":2.0, \"Kuras\": \"Benzinas\", \"Spalva\": \"Balta\"}\n",
    "print(automobilis)\n",
    "print(automobilis[\"Metai\"])\n",
    "print(automobilis[\"Modelis\"])\n"
   ]
  },
  {
   "cell_type": "markdown",
   "metadata": {},
   "source": [
    "Keiciam elementa"
   ]
  },
  {
   "cell_type": "code",
   "execution_count": 13,
   "metadata": {},
   "outputs": [
    {
     "name": "stdout",
     "output_type": "stream",
     "text": [
      "{'Gamintojas': 'Jaguar', 'Modelis': 'F-Pace', 'Metai': 2019, 'Variklis': 2.0, 'Kuras': 'Benzinas', 'Spalva': 'Juoda'}\n"
     ]
    }
   ],
   "source": [
    "automobilis[\"Spalva\"] = \"Juoda\"\n",
    "print(automobilis)"
   ]
  },
  {
   "cell_type": "markdown",
   "metadata": {},
   "source": [
    "Prideji prie zodyno"
   ]
  },
  {
   "cell_type": "code",
   "execution_count": 14,
   "metadata": {},
   "outputs": [
    {
     "name": "stdout",
     "output_type": "stream",
     "text": [
      "{'Gamintojas': 'Jaguar', 'Modelis': 'F-Pace', 'Metai': 2019, 'Variklis': 2.0, 'Kuras': 'Benzinas', 'Spalva': 'Juoda', 'Ratai': 'R19', 'Pavaru Deze': 'Automatine'}\n"
     ]
    }
   ],
   "source": [
    "automobilis[\"Ratai\"] = \"R19\"\n",
    "automobilis[\"Pavaru Deze\"] = \"Automatine\"\n",
    "print(automobilis)\n"
   ]
  },
  {
   "cell_type": "markdown",
   "metadata": {},
   "source": [
    "Atemimas is zodyno"
   ]
  },
  {
   "cell_type": "code",
   "execution_count": 15,
   "metadata": {},
   "outputs": [
    {
     "name": "stdout",
     "output_type": "stream",
     "text": [
      "{'Gamintojas': 'Jaguar', 'Modelis': 'F-Pace', 'Metai': 2019, 'Variklis': 2.0, 'Kuras': 'Benzinas', 'Spalva': 'Juoda', 'Pavaru Deze': 'Automatine'}\n"
     ]
    }
   ],
   "source": [
    "del automobilis[\"Ratai\"]\n",
    "print(automobilis)"
   ]
  },
  {
   "cell_type": "markdown",
   "metadata": {},
   "source": [
    "# Ciklai (loop)"
   ]
  },
  {
   "cell_type": "code",
   "execution_count": 16,
   "metadata": {},
   "outputs": [
    {
     "name": "stdout",
     "output_type": "stream",
     "text": [
      "Zen\n",
      "Coding\n",
      "Zen\n",
      "Coding\n"
     ]
    }
   ],
   "source": [
    "#   cikliskai\n",
    "for zodis in zodziai:\n",
    "    print(zodis)\n",
    "\n",
    "#   spausdina po viena zodi\n",
    "print(zodziai[0])\n",
    "print(zodziai[1])\n",
    "\n"
   ]
  },
  {
   "cell_type": "code",
   "execution_count": 17,
   "metadata": {},
   "outputs": [
    {
     "name": "stdout",
     "output_type": "stream",
     "text": [
      "5\n",
      "labas\n",
      "True\n",
      "<class 'list'>\n",
      "30\n",
      "['Zen', 'Coding']\n",
      "ok\n",
      "veikia\n"
     ]
    }
   ],
   "source": [
    "for elementas in misrus:\n",
    "    print(elementas)"
   ]
  },
  {
   "cell_type": "code",
   "execution_count": 18,
   "metadata": {},
   "outputs": [
    {
     "name": "stdout",
     "output_type": "stream",
     "text": [
      "5\n",
      "5\n",
      "True\n",
      "<class 'list'>\n",
      "30\n",
      "2\n",
      "2\n",
      "6\n"
     ]
    }
   ],
   "source": [
    "for elementas in misrus:\n",
    "    if type(elementas) is int or type(elementas) is float or type(elementas) == bool or type(elementas) == type:\n",
    "        print(elementas)\n",
    "    else:\n",
    "        print(len(elementas))"
   ]
  },
  {
   "cell_type": "code",
   "execution_count": 19,
   "metadata": {},
   "outputs": [
    {
     "name": "stdout",
     "output_type": "stream",
     "text": [
      "Zodzio Zen ilgis: 3\n",
      "Zodzio Coding ilgis: 6\n"
     ]
    }
   ],
   "source": [
    "for zodis in zodziai:\n",
    "    print(f\"Zodzio {zodis} ilgis: {len(zodis)}\")"
   ]
  },
  {
   "cell_type": "code",
   "execution_count": 20,
   "metadata": {},
   "outputs": [
    {
     "name": "stdout",
     "output_type": "stream",
     "text": [
      "Zodzio Zen ilgis: 3\n",
      "Zodzio Coding ilgis: 6\n"
     ]
    }
   ],
   "source": [
    "for zodis in zodziai:\n",
    "    print(\"Zodzio\", zodis, \"ilgis:\", len(zodis))"
   ]
  },
  {
   "cell_type": "code",
   "execution_count": 21,
   "metadata": {},
   "outputs": [
    {
     "name": "stdout",
     "output_type": "stream",
     "text": [
      "Zen\n",
      "3\n",
      "kitas..>\n",
      "Coding\n",
      "6\n",
      "kitas..>\n"
     ]
    }
   ],
   "source": [
    "for zodis in zodziai:\n",
    "    print(zodis)\n",
    "    print(len(zodis))\n",
    "    print(\"kitas..>\")"
   ]
  },
  {
   "cell_type": "code",
   "execution_count": 22,
   "metadata": {},
   "outputs": [
    {
     "name": "stdout",
     "output_type": "stream",
     "text": [
      "prie  0 pridedam 1\n",
      "prie  1 pridedam 4\n",
      "prie  5 pridedam 8\n",
      "prie  13 pridedam 17\n",
      "suma: 30\n"
     ]
    }
   ],
   "source": [
    "suma = 0\n",
    "for skaicius in skaiciai:\n",
    "    print(\"prie \", suma, \"pridedam\", skaicius)\n",
    "    suma += skaicius\n",
    "print(\"suma:\", suma)\n"
   ]
  },
  {
   "cell_type": "markdown",
   "metadata": {},
   "source": [
    "# Iteruojam per zodynus (for loop)"
   ]
  },
  {
   "cell_type": "code",
   "execution_count": 23,
   "metadata": {},
   "outputs": [
    {
     "name": "stdout",
     "output_type": "stream",
     "text": [
      "dict_keys(['Gamintojas', 'Modelis', 'Metai', 'Variklis', 'Kuras', 'Spalva', 'Pavaru Deze'])\n",
      "dict_values(['Jaguar', 'F-Pace', 2019, 2.0, 'Benzinas', 'Juoda', 'Automatine'])\n"
     ]
    }
   ],
   "source": [
    "#   zodyno raktai (iki :)\n",
    "print(automobilis.keys())\n",
    "\n",
    "#   zodyno reiksmes (po :)\n",
    "print(automobilis.values())"
   ]
  },
  {
   "cell_type": "code",
   "execution_count": 24,
   "metadata": {},
   "outputs": [
    {
     "name": "stdout",
     "output_type": "stream",
     "text": [
      "Gamintojas\n",
      "Jaguar\n",
      "Modelis\n",
      "F-Pace\n",
      "Metai\n",
      "2019\n",
      "Variklis\n",
      "2.0\n",
      "Kuras\n",
      "Benzinas\n",
      "Spalva\n",
      "Juoda\n",
      "Pavaru Deze\n",
      "Automatine\n"
     ]
    }
   ],
   "source": [
    "# pirmas budas\n",
    "for atributas in automobilis:\n",
    "    print(atributas)\n",
    "    #   pasiekiame reiksmes\n",
    "    print(automobilis[atributas])"
   ]
  },
  {
   "cell_type": "code",
   "execution_count": 25,
   "metadata": {},
   "outputs": [
    {
     "name": "stdout",
     "output_type": "stream",
     "text": [
      "Jaguar\n",
      "F-Pace\n",
      "2019\n",
      "2.0\n",
      "Benzinas\n",
      "Juoda\n",
      "Automatine\n"
     ]
    }
   ],
   "source": [
    "#   antras buda - tik per reiksmes\n",
    "for reiksme in automobilis.values():\n",
    "    print(reiksme)"
   ]
  },
  {
   "cell_type": "code",
   "execution_count": 26,
   "metadata": {},
   "outputs": [
    {
     "name": "stdout",
     "output_type": "stream",
     "text": [
      "Simas 28\n",
      "Linas 30\n",
      "Ingrida 30\n",
      "Mantas 32\n",
      "Darius 32\n"
     ]
    }
   ],
   "source": [
    "#   trecias budas - tik\n",
    "for vardas, amzius in zodynas.items():\n",
    "    print(vardas, amzius)"
   ]
  },
  {
   "cell_type": "markdown",
   "metadata": {},
   "source": [
    "# Range funkcija"
   ]
  },
  {
   "cell_type": "code",
   "execution_count": 27,
   "metadata": {},
   "outputs": [
    {
     "name": "stdout",
     "output_type": "stream",
     "text": [
      "0\n",
      "1\n",
      "2\n",
      "3\n",
      "4\n",
      "5\n",
      "6\n"
     ]
    }
   ],
   "source": [
    "for skaicius in range(7):\n",
    "    print(skaicius)"
   ]
  },
  {
   "cell_type": "code",
   "execution_count": 28,
   "metadata": {},
   "outputs": [
    {
     "name": "stdout",
     "output_type": "stream",
     "text": [
      "2002\n",
      "2003\n",
      "2004\n",
      "2005\n",
      "2006\n",
      "2007\n",
      "2008\n",
      "2009\n",
      "2010\n",
      "2011\n",
      "2012\n",
      "2013\n",
      "2014\n",
      "2015\n",
      "2016\n",
      "2017\n",
      "2018\n",
      "2019\n",
      "2020\n",
      "2021\n",
      "2022\n"
     ]
    }
   ],
   "source": [
    "for metai in range(2002, 2023):\n",
    "    print(metai)"
   ]
  },
  {
   "cell_type": "code",
   "execution_count": 29,
   "metadata": {},
   "outputs": [
    {
     "name": "stdout",
     "output_type": "stream",
     "text": [
      "0\n",
      "100\n",
      "200\n",
      "300\n",
      "400\n",
      "500\n",
      "600\n",
      "700\n",
      "800\n",
      "900\n",
      "1000\n",
      "1100\n",
      "1200\n",
      "1300\n",
      "1400\n",
      "1500\n",
      "1600\n",
      "1700\n",
      "1800\n",
      "1900\n",
      "2000\n",
      "2100\n",
      "2200\n"
     ]
    }
   ],
   "source": [
    "for simtai in range(0, 2222, 100):\n",
    "    print(simtai)"
   ]
  },
  {
   "cell_type": "code",
   "execution_count": 30,
   "metadata": {},
   "outputs": [
    {
     "name": "stdout",
     "output_type": "stream",
     "text": [
      "5\n",
      "True\n",
      "30\n",
      "ok\n"
     ]
    }
   ],
   "source": [
    "for x in range(0, len(misrus), 2):\n",
    "    print(misrus[x])"
   ]
  },
  {
   "cell_type": "markdown",
   "metadata": {},
   "source": [
    "# While Loop"
   ]
  },
  {
   "cell_type": "code",
   "execution_count": 31,
   "metadata": {},
   "outputs": [
    {
     "name": "stdout",
     "output_type": "stream",
     "text": [
      "7\n",
      "6 ...>\n",
      "6\n",
      "5 ...>\n",
      "5\n",
      "4 ...>\n",
      "4\n",
      "3 ...>\n",
      "3\n",
      "2 ...>\n",
      "2\n",
      "1 ...>\n",
      "1\n",
      "0 ...>\n"
     ]
    }
   ],
   "source": [
    "eile = 7\n",
    "while eile > 0:\n",
    "    print(eile)\n",
    "    eile -=1\n",
    "    print(eile, '...>')"
   ]
  },
  {
   "cell_type": "code",
   "execution_count": null,
   "metadata": {},
   "outputs": [],
   "source": []
  },
  {
   "cell_type": "markdown",
   "metadata": {},
   "source": [
    "# break"
   ]
  },
  {
   "cell_type": "code",
   "execution_count": 32,
   "metadata": {},
   "outputs": [],
   "source": [
    "# while True:\n",
    "#     signalas = input(\"iveskite kanors, arba Q kad iseiti: \")\n",
    "#     print(signalas)\n",
    "#     if signalas == \"Q\":\n",
    "#         break"
   ]
  },
  {
   "cell_type": "code",
   "execution_count": 33,
   "metadata": {},
   "outputs": [
    {
     "name": "stdout",
     "output_type": "stream",
     "text": [
      "next...>\n",
      "1 1\n",
      "2 2\n",
      "3 3\n",
      "4 4\n",
      "next...>\n",
      "6 1\n",
      "7 2\n",
      "8 3\n",
      "9 4\n",
      "next...>\n",
      "11 1\n",
      "12 2\n",
      "13 3\n",
      "14 4\n",
      "next...>\n",
      "16 1\n",
      "17 2\n",
      "18 3\n",
      "19 4\n"
     ]
    }
   ],
   "source": [
    "for skaicius in range(20):\n",
    "    if skaicius % 5 == 0:\n",
    "        print(\"next...>\")\n",
    "        continue\n",
    "    print(skaicius, skaicius % 5)"
   ]
  },
  {
   "cell_type": "markdown",
   "metadata": {},
   "source": [
    "# Enumerate"
   ]
  },
  {
   "cell_type": "code",
   "execution_count": 34,
   "metadata": {},
   "outputs": [
    {
     "name": "stdout",
     "output_type": "stream",
     "text": [
      "0 5\n",
      "1 labas\n",
      "2 True\n",
      "3 <class 'list'>\n",
      "4 30\n",
      "5 ['Zen', 'Coding']\n",
      "6 ok\n",
      "7 veikia\n"
     ]
    }
   ],
   "source": [
    "misrus\n",
    "for eiles_numeris, elementas in enumerate(misrus):\n",
    "    print(eiles_numeris, elementas)"
   ]
  },
  {
   "cell_type": "code",
   "execution_count": 2,
   "metadata": {},
   "outputs": [
    {
     "name": "stdout",
     "output_type": "stream",
     "text": [
      "1 sad 3\n",
      "2 asd 3\n",
      "2 asd 3\n",
      "2 asd 3\n",
      "2 asd 3\n"
     ]
    }
   ],
   "source": [
    "ivesti = []\n",
    "zodziu_kiekis = int(input(\"kiek zodziu?\"))\n",
    "for eiles_nr in range(zodziu_kiekis):\n",
    "    ivesti.append(input(f\"iveskite {eiles_nr+1} zodi: \"))\n",
    "for zodis in ivesti:\n",
    "    print(ivesti.index(zodis)+1, zodis, len(zodis))\n"
   ]
  }
 ],
 "metadata": {
  "kernelspec": {
   "display_name": "Python 3.10.6 ('venv': venv)",
   "language": "python",
   "name": "python3"
  },
  "language_info": {
   "codemirror_mode": {
    "name": "ipython",
    "version": 3
   },
   "file_extension": ".py",
   "mimetype": "text/x-python",
   "name": "python",
   "nbconvert_exporter": "python",
   "pygments_lexer": "ipython3",
   "version": "3.10.6"
  },
  "orig_nbformat": 4,
  "vscode": {
   "interpreter": {
    "hash": "7d75aefa697f010155c3eb0376182af89d34ef69b1de20f8c9d32e6e970aa995"
   }
  }
 },
 "nbformat": 4,
 "nbformat_minor": 2
}
