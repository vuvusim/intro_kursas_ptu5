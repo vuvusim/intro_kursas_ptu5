{
 "cells": [
  {
   "cell_type": "markdown",
   "metadata": {},
   "source": [
    "# OOP papildomi uždaviniai\n",
    "## 1. Knygynas\n",
    "* Sukurkite klasę `Autorius`, su savybėmis `vardas`, `pavarde`, `gimimo_data`\n",
    "* Sukurkite klasę `Knyga`, su savybėmis `pavadinimas`, `autorius`, `isleidimo_data`\n",
    "* Aprašykite šioms klasėms `__str__` metodus\n",
    "* Sukurkite `Knyga` savybei `autorius` setterį ir getterį. Setteryje tikrinkite, ar `autorius` yra klasės `Autorius` objektas.\n",
    "* Sukurkite datų savybėms set/get metodus, tikrinančius, kad data būtų `datetime.date` duomenų tipo\n",
    "* Sukurkite klasę `Zurnalas`, paveldinčią knygą, su papildoma savybe `serija=1`, kuri būtų priskirta ne per `__init__` funkciją\n",
    "* Sukurkite savybę `praeita_serija` žurnalui, pagal nutylėjimą `None` reikšmės. Įvedant tikrinkite, ar reikšmė yra `None` arba jos tipas yra `Zurnalas`. Jeigu žurnalas - tai kuriamam žurnalo objekto `serija` reikšmei priskirkite `praeita_serija.serija + 1` reikšmę."
   ]
  },
  {
   "cell_type": "code",
   "execution_count": 5,
   "metadata": {},
   "outputs": [],
   "source": [
    "from datetime import date, timedelta\n",
    "\n",
    "class Autorius():\n",
    "    def __init__(self, vardas, pavarde, gimimo_data):\n",
    "        self.vardas = vardas\n",
    "        self.pavarde = pavarde\n",
    "        self.gimimo_data = gimimo_data\n",
    "\n",
    "    @property\n",
    "    def gimimo_data(self):\n",
    "        return self.__gimimo_data\n",
    "\n",
    "    @gimimo_data.setter\n",
    "    def gimimo_data(self, nauja_gimimo_data):\n",
    "        if type(nauja_gimimo_data) == date:\n",
    "            self.__gimimo_data = nauja_gimimo_data\n",
    "        else:\n",
    "            print(\"Klaida: gimimo_data\")\n",
    "\n",
    "    def __str__(self):\n",
    "        return f\"{self.vardas} - {self.pavarde}\""
   ]
  },
  {
   "cell_type": "code",
   "execution_count": 6,
   "metadata": {},
   "outputs": [
    {
     "name": "stdout",
     "output_type": "stream",
     "text": [
      "Jason - Zweig 1965-02-19\n",
      "Jason - Zweig - Pinigu psichologija 2022-09-20\n"
     ]
    }
   ],
   "source": [
    "class Knyga():\n",
    "    \n",
    "    def __init__(self, pavadinimas, autorius, isleidimo_data):\n",
    "        self.pavadinimas = pavadinimas\n",
    "        self.autorius = autorius\n",
    "        self.isleidimo_data = isleidimo_data\n",
    "\n",
    "    @property\n",
    "    def isleidimo_data(self):\n",
    "        return self.__isleidimo_data\n",
    "\n",
    "    @isleidimo_data.setter\n",
    "    def isleidimo_data(self, nauja_isleidimo_data):\n",
    "        if type(nauja_isleidimo_data) == date:\n",
    "            self.__isleidimo_data = nauja_isleidimo_data\n",
    "        else:\n",
    "            raise ValueError(\"data turi buti datos duomenu tipo\")\n",
    "\n",
    "    @property\n",
    "    def autorius(self):\n",
    "        return self.__autorius\n",
    "\n",
    "    @autorius.setter\n",
    "    def autorius(self, naujas_autorius):\n",
    "        if isinstance(naujas_autorius, Autorius):\n",
    "            self.__autorius = naujas_autorius\n",
    "        else:\n",
    "            raise ValueError(\"autorius turi buti Autorius duomenu tipo\")\n",
    "\n",
    "    def __str__(self):\n",
    "        return f\"{self.autorius} - {self.pavadinimas}\"\n",
    "\n",
    "    \n",
    "        \n",
    "autorius = Autorius(\"Jason\", \"Zweig\", date(1965, 2, 19))\n",
    "print(autorius, autorius.gimimo_data)\n",
    "\n",
    "knyga = Knyga(\"Pinigu psichologija\", autorius, date.today() - timedelta(days=0))\n",
    "print(knyga, knyga.isleidimo_data)\n"
   ]
  },
  {
   "cell_type": "code",
   "execution_count": 7,
   "metadata": {},
   "outputs": [],
   "source": [
    "class Zurnalas(Knyga):\n",
    "    serija = 1\n",
    "\n",
    "    def __init__(self, pavadinimas, autorius, isleidimo_data, preita_serija=None):\n",
    "        super().__init__(pavadinimas, autorius, isleidimo_data)\n",
    "        self.preita_serija = preita_serija\n",
    "\n",
    "    @property\n",
    "    def preita_serija(self):\n",
    "        return self.__preita_serija\n",
    "\n",
    "    @preita_serija.setter\n",
    "    def preita_serija(self, zurnalas):\n",
    "        if not isinstance(zurnalas, Zurnalas) and zurnalas != None:\n",
    "            raise ValueError(\"zurnalas must be Zurnalas instance or None\")\n",
    "        else:\n",
    "            self.__preita_serija = zurnalas\n",
    "            if isinstance(zurnalas, Zurnalas):\n",
    "                self.serija = zurnalas.serija + 1\n",
    "        \n",
    "        \n",
    "        "
   ]
  },
  {
   "cell_type": "code",
   "execution_count": 8,
   "metadata": {},
   "outputs": [
    {
     "name": "stdout",
     "output_type": "stream",
     "text": [
      "Jason - Zweig - Intro Kurso Medžiaga - Kintamieji, išleista 2022-08-29, serija 1\n",
      "Jason - Zweig - Intro Kurso Medžiaga - Masyvai, išleista 2022-08-31, serija 2\n",
      "Jason - Zweig - Intro Kurso Medžiaga - Ciklai, išleista 2022-09-02, serija 3\n",
      "praeita serija: Jason - Zweig - Intro Kurso Medžiaga - Masyvai, išleista 2022-08-31, serija 2\n",
      "priešpraeita serija: Jason - Zweig - Intro Kurso Medžiaga - Kintamieji\n"
     ]
    }
   ],
   "source": [
    "kintamieji = Zurnalas(\"Intro Kurso Medžiaga - Kintamieji\", autorius, date.today() - timedelta(days=22))\n",
    "print(f\"{kintamieji}, išleista {kintamieji.isleidimo_data}, serija {kintamieji.serija}\")\n",
    "\n",
    "masyvai = Zurnalas(\"Intro Kurso Medžiaga - Masyvai\", autorius, date.today() - timedelta(days=20), kintamieji)\n",
    "print(f\"{masyvai}, išleista {masyvai.isleidimo_data}, serija {masyvai.serija}\")\n",
    "\n",
    "ciklai = Zurnalas(\"Intro Kurso Medžiaga - Ciklai\", autorius, date.today() - timedelta(days=18), masyvai)\n",
    "print(f\"{ciklai}, išleista {ciklai.isleidimo_data}, serija {ciklai.serija}\")\n",
    "\n",
    "print(f\"praeita serija: {ciklai.preita_serija}, išleista {ciklai.preita_serija.isleidimo_data}, serija {ciklai.preita_serija.serija}\")\n",
    "print(f\"priešpraeita serija: {ciklai.preita_serija.preita_serija}\")"
   ]
  }
 ],
 "metadata": {
  "kernelspec": {
   "display_name": "Python 3.10.6 ('venv': venv)",
   "language": "python",
   "name": "python3"
  },
  "language_info": {
   "codemirror_mode": {
    "name": "ipython",
    "version": 3
   },
   "file_extension": ".py",
   "mimetype": "text/x-python",
   "name": "python",
   "nbconvert_exporter": "python",
   "pygments_lexer": "ipython3",
   "version": "3.10.6"
  },
  "orig_nbformat": 4,
  "vscode": {
   "interpreter": {
    "hash": "0554f7b18533e7252936f1677319fe792fcfaa3b68a1b30b6f53e5a9d9de55c6"
   }
  }
 },
 "nbformat": 4,
 "nbformat_minor": 2
}
