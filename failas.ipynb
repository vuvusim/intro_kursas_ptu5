{
 "cells": [
  {
   "cell_type": "code",
   "execution_count": 286,
   "metadata": {},
   "outputs": [],
   "source": [
    "import datetime\n",
    "import os"
   ]
  },
  {
   "cell_type": "code",
   "execution_count": 287,
   "metadata": {},
   "outputs": [
    {
     "name": "stdout",
     "output_type": "stream",
     "text": [
      "['MAXYEAR', 'MINYEAR', '__all__', '__builtins__', '__cached__', '__doc__', '__file__', '__loader__', '__name__', '__package__', '__spec__', 'date', 'datetime', 'datetime_CAPI', 'sys', 'time', 'timedelta', 'timezone', 'tzinfo']\n"
     ]
    }
   ],
   "source": [
    "print(dir(datetime))"
   ]
  },
  {
   "cell_type": "code",
   "execution_count": 288,
   "metadata": {},
   "outputs": [
    {
     "name": "stdout",
     "output_type": "stream",
     "text": [
      "c:\\ptu5\\intro_kursas\n"
     ]
    }
   ],
   "source": [
    "# gauti dabartiuni aktyvu darbini kataloga\n",
    "print(os.getcwd())"
   ]
  },
  {
   "cell_type": "code",
   "execution_count": 289,
   "metadata": {},
   "outputs": [
    {
     "name": "stdout",
     "output_type": "stream",
     "text": [
      "c:\\ptu4_bandymas\n",
      "c:\\ptu5\\intro_kursas\n"
     ]
    }
   ],
   "source": [
    "# pakeisti dabartini darbini kataloga\n",
    "os.chdir(\"c:\\\\ptu4_bandymas\")\n",
    "print(os.getcwd())\n",
    "os.chdir(\"c:\\\\ptu5\\\\intro_kursas\")\n",
    "print(os.getcwd())"
   ]
  },
  {
   "cell_type": "code",
   "execution_count": 290,
   "metadata": {},
   "outputs": [
    {
     "name": "stdout",
     "output_type": "stream",
     "text": [
      "['antradienis.ipynb', 'antradienis.py', 'bandymai.ipynb', 'bandymai.py', 'bandymas.py', 'cikliskai_bandymai.py', 'data_laikas.ipynb', 'data_laikas.py', 'failas.ipynb', 'funkcijos.ipynb', 'funkcijos_2.ipynb', 'ieskomasis.py', 'infinite_loop.py', 'isimtys.ipynb', 'ivadas.py', 'loop_else_bus_itraukta_i _testa.py', 'Naujas', 'penktadienis.ipynb', 'pirmadienis.ipynb', 'pirmadienis.py', 'tikrinimas.py', 'treciadienis.ipynb', 'treciadienis.py', 'uzduotis_1.py', 'uzduotis_10.py', 'uzduotis_2.py', 'uzduotis_3.py', 'uzduotis_4.py', 'uzduotis_5.py', 'uzduotis_6.py', 'uzduotis_7.py', 'uzduotis_8.py', 'uzduotis_9.py', 'uzduotys_09_08.ipynb', 'venv']\n"
     ]
    }
   ],
   "source": [
    "# gauti katalogo turini\n",
    "print(os.listdir())"
   ]
  },
  {
   "cell_type": "code",
   "execution_count": 291,
   "metadata": {},
   "outputs": [],
   "source": [
    "# # kaip sukurti nauja kataloga\n",
    "# os.mkdir(\"Naujas\")"
   ]
  },
  {
   "cell_type": "code",
   "execution_count": 1,
   "metadata": {},
   "outputs": [
    {
     "name": "stdout",
     "output_type": "stream",
     "text": [
      "os.stat_result(st_mode=16895, st_ino=1407374883738250, st_dev=3895515405, st_nlink=1, st_uid=0, st_gid=0, st_size=4096, st_atime=1663012525, st_mtime=1662988013, st_ctime=1662968274)\n",
      "1662982788.332616\n",
      "3459\n"
     ]
    }
   ],
   "source": [
    "print(os.stat(\"Naujas\"))\n",
    "print(os.stat(\"failai.py\").st_ctime)\n",
    "from datetime import datetime\n",
    "# failo sukurimas\n",
    "datetime.fromtimestamp(os.stat(\"failai.py\").st_ctime) \n",
    "# failo dydis\n",
    "print(os.stat(\"failai.py\").st_size)"
   ]
  },
  {
   "cell_type": "markdown",
   "metadata": {},
   "source": [
    "# Tekstiniai failai"
   ]
  },
  {
   "cell_type": "code",
   "execution_count": null,
   "metadata": {},
   "outputs": [],
   "source": [
    "# \"w\" atsidaro faila rasymui (write) \"r\" skaitymui (read), prideti/prirasyti \"a\"\n",
    "with open(\"Naujas/labas.txt\", \"w\") as tekstinis: \n",
    "    tekstinis.write(\"Sveikas failo skaitytojau!\\n\")\n",
    "    tekstinis.write(\"Kadanors dar kanors parasysiu\\n\")"
   ]
  },
  {
   "cell_type": "code",
   "execution_count": null,
   "metadata": {},
   "outputs": [],
   "source": [
    "# alternatyv be \"with\"\n",
    "alternatyva = open(\"Naujas/geras.txt\", \"w\")\n",
    "alternatyva.write(\"Oras yra geras\")\n",
    "alternatyva.close()"
   ]
  },
  {
   "cell_type": "code",
   "execution_count": null,
   "metadata": {},
   "outputs": [
    {
     "name": "stdout",
     "output_type": "stream",
     "text": [
      "Oras yra geras\n"
     ]
    }
   ],
   "source": [
    "# failo skaitymas \"a\"\n",
    "with open(\"Naujas/geras.txt\", \"r\") as skaitomas:\n",
    "    oras = skaitomas.read() # skaitom tik viena karta\n",
    "    print(oras)"
   ]
  },
  {
   "cell_type": "code",
   "execution_count": null,
   "metadata": {},
   "outputs": [
    {
     "name": "stdout",
     "output_type": "stream",
     "text": [
      "\n",
      "viso geroviso geroviso geroviso geroDar viena ar kita eilute\n",
      "Dar viena ar kita eilute\n",
      "Dar viena ar kita eilute\n",
      "Dar viena ar kita eilute\n",
      "Dar viena ar kita eilute\n",
      "Dar viena ar kita eilute\n",
      "Dar viena ar kita eilute\n",
      "Dar viena ar kita eilute\n",
      "\n"
     ]
    }
   ],
   "source": [
    "# vienu metu skaityti ir rasyti faila su \"r+\"\n",
    "with open(\"Naujas/labas.txt\", \"r+\") as skaitomas:\n",
    "    skaitomas.write(\"Prirasom kazka i prieki\")\n",
    "    senas = skaitomas.read()\n",
    "    print(senas)\n",
    "    skaitomas.write(\"Dar viena ar kita eilute\\n\")\n"
   ]
  },
  {
   "cell_type": "code",
   "execution_count": null,
   "metadata": {},
   "outputs": [
    {
     "name": "stdout",
     "output_type": "stream",
     "text": [
      "Prirasom kazka i prieki\n",
      "viso geroviso geroviso geroviso geroDar viena ar kita eilute\n",
      "Dar viena ar kita eilute\n",
      "Dar viena ar kita eilute\n",
      "Dar viena ar kita eilute\n",
      "Dar viena ar kita eilute\n",
      "Dar viena ar kita eilute\n",
      "Dar viena ar kita eilute\n",
      "Dar viena ar kita eilute\n",
      "Dar viena ar kita eilute\n",
      "\n"
     ]
    }
   ],
   "source": [
    "with open(\"Naujas/labas.txt\", \"r\") as skaitomas:\n",
    "    print(skaitomas.read())"
   ]
  },
  {
   "cell_type": "code",
   "execution_count": 4,
   "metadata": {},
   "outputs": [
    {
     "name": "stdout",
     "output_type": "stream",
     "text": [
      "['Prirasom kazka i prieki\\n', 'Dar viena ar kita eilute\\n', 'Dar viena ar kita eilute\\n', 'Dar viena ar kita eilute\\n', 'Dar viena ar kita eilute\\n', 'Dar viena ar kita eilute\\n', 'Dar viena ar kita eilute\\n', 'Dar viena ar kita eilute\\n', 'viso gero']\n",
      "0 Prirasom kazka i prieki\n",
      "1 Dar viena ar kita eilute\n",
      "2 Dar viena ar kita eilute\n",
      "3 Dar viena ar kita eilute\n",
      "4 Dar viena ar kita eilute\n",
      "5 Dar viena ar kita eilute\n",
      "6 Dar viena ar kita eilute\n",
      "7 Dar viena ar kita eilute\n",
      "8 viso gero"
     ]
    }
   ],
   "source": [
    "with open(\"Naujas/labas.txt\", \"r\") as skaitomas:\n",
    "    eilutes = skaitomas.readlines()\n",
    "    print(eilutes)\n",
    "# eilutes.pop() # pop yra istrinam ir jei nenurodot pozicijos trina nuo galo\n",
    "# eilutes.pop()\n",
    "\n",
    "for indeksas, eilute in enumerate(eilutes):\n",
    "    print(indeksas, eilute, end=\"\")\n",
    "with open(\"Naujas/labas.txt\", \"w\") as rasomas:\n",
    "    rasomas.writelines(eilutes)\n"
   ]
  },
  {
   "cell_type": "code",
   "execution_count": null,
   "metadata": {},
   "outputs": [
    {
     "name": "stdout",
     "output_type": "stream",
     "text": [
      "['Prirasom kazka i prieki\\n', 'viso geroviso geroviso geroviso geroDar viena ar kita eilute\\n', 'Dar viena ar kita eilute\\n', 'Dar viena ar kita eilute\\n', 'Dar viena ar kita eilute\\n', 'Dar viena ar kita eilute\\n', 'Dar viena ar kita eilute\\n', 'Dar viena ar kita eilute\\n', 'Dar viena ar kita eilute\\n', 'Dar viena ar kita eilute\\n']\n"
     ]
    }
   ],
   "source": [
    "with open(\"Naujas/labas.txt\", \"a\") as pridedamasis:\n",
    "    pridedamasis.write(\"viso gero\")\n",
    "    print(eilutes)"
   ]
  },
  {
   "cell_type": "code",
   "execution_count": null,
   "metadata": {},
   "outputs": [
    {
     "name": "stdout",
     "output_type": "stream",
     "text": [
      "0\n",
      "1\n",
      "['Prirasom kazka i prieki\\n', 'Dar viena ar kita eilute\\n', 'Dar viena ar kita eilute\\n', 'Dar viena ar kita eilute\\n', 'Dar viena ar kita eilute\\n', 'Dar viena ar kita eilute\\n', 'Dar viena ar kita eilute\\n', 'Dar viena ar kita eilute\\n', 'viso gero']\n"
     ]
    }
   ],
   "source": [
    "# taisom bardaka\n",
    "# pirmas taisymas - siukslines eilutes\n",
    "with open(\"Naujas/labas.txt\", \"r\") as taisomas:\n",
    "    eilutes = taisomas.readlines()\n",
    "for metama in range(2):\n",
    "    print(metama)\n",
    "    eilutes.pop(1)\n",
    "print(eilutes)\n",
    "with open(\"Naujas/labas.txt\", \"w\") as pataisytas:\n",
    "    pataisytas.writelines(eilutes)\n",
    "    "
   ]
  },
  {
   "cell_type": "code",
   "execution_count": null,
   "metadata": {},
   "outputs": [
    {
     "name": "stdout",
     "output_type": "stream",
     "text": [
      "Prirasom kazka i prieki\n",
      "Dar viena ar kita eilute\n",
      "Dar viena ar kita eilute\n",
      "Dar viena ar kita eilute\n",
      "Dar viena ar kita eilute\n",
      "Dar viena ar kita eilute\n",
      "Dar viena ar kita eilute\n",
      "Dar viena ar kita eilute\n",
      "viso gero"
     ]
    }
   ],
   "source": [
    "# taisom bardaka\n",
    "# antras taisymas - priekiau\n",
    "with open(\"Naujas/labas.txt\", \"r\") as taisomas:\n",
    "    eilutes = taisomas.readlines()\n",
    "eilutes[0] = eilutes[0].replace(\"priekiau!\", \"prieki\")\n",
    "# print(eilutes)\n",
    "for eilute in eilutes:\n",
    "    print(eilute, end=\"\")\n",
    "with open(\"Naujas/labas.txt\", \"w\") as pataisytas:\n",
    "    pataisytas.writelines(eilutes)"
   ]
  },
  {
   "cell_type": "code",
   "execution_count": 298,
   "metadata": {},
   "outputs": [
    {
     "name": "stdout",
     "output_type": "stream",
     "text": [
      "28\n",
      " viena ar kita eilute\n",
      "Dar viena ar kita eilute\n",
      "Dar viena ar kita eilute\n",
      "Dar viena ar kita eilute\n",
      "Dar viena ar kita eilute\n",
      "Dar viena ar kita eilute\n",
      "Dar viena ar kita eilute\n",
      "viso gero\n"
     ]
    }
   ],
   "source": [
    "with open(\"Naujas/labas.txt\", \"r\") as seekinamas:\n",
    "    visas = seekinamas.read()\n",
    "    # print(visas)\n",
    "    darvieta = visas.find(\"viena\")\n",
    "    print(darvieta)\n",
    "    seekinamas.seek(darvieta)\n",
    "    nuodar = seekinamas.read()\n",
    "    print(nuodar)"
   ]
  },
  {
   "cell_type": "markdown",
   "metadata": {},
   "source": [
    "# Failai su UTF-8"
   ]
  },
  {
   "cell_type": "code",
   "execution_count": 296,
   "metadata": {},
   "outputs": [],
   "source": [
    "# \"utf-8\" universalus sukurti visiem zenklam\n",
    "with open(\"Naujas/lietuviskas.txt\", \"w\", encoding=\"utf-8\") as lietuviskas:\n",
    "    lietuviskas.write(\"Bandom rašyti į failą lietuviškai\\nNešveplai tik\")"
   ]
  },
  {
   "cell_type": "code",
   "execution_count": 297,
   "metadata": {},
   "outputs": [
    {
     "name": "stdout",
     "output_type": "stream",
     "text": [
      "Bandom rašyti į failą lietuviškai\n",
      "Nešveplai tik\n"
     ]
    }
   ],
   "source": [
    "with open(\"Naujas/lietuviskas.txt\", \"r\", encoding=\"utf-8\") as lietuviskas:\n",
    "    print(lietuviskas.read())"
   ]
  },
  {
   "cell_type": "code",
   "execution_count": 300,
   "metadata": {},
   "outputs": [
    {
     "name": "stdout",
     "output_type": "stream",
     "text": [
      "Prirasom kazka i prieki\n",
      "Dar viena ar kita eilute\n",
      "Dar viena ar kita eilute\n",
      "Dar viena ar kita eilute\n",
      "Dar viena ar kita eilute\n",
      "Dar viena ar kita eilute\n",
      "Dar viena ar kita eilute\n",
      "Dar viena ar kita eilute\n",
      "viso gero"
     ]
    }
   ],
   "source": [
    "# iesko tuscios eilutes ir ja radus sustoja programa\n",
    "with open(\"Naujas/labas.txt\", \"r\") as failas:\n",
    "    while True:\n",
    "        eilute = failas.readline()\n",
    "        print(eilute, end=\"\")\n",
    "        if len(eilute) == 0:\n",
    "            break\n",
    "       "
   ]
  },
  {
   "cell_type": "code",
   "execution_count": 301,
   "metadata": {},
   "outputs": [
    {
     "name": "stdout",
     "output_type": "stream",
     "text": [
      "Prirasom kazka i prieki\n",
      "Dar viena ar kita eilute\n",
      "Dar viena ar kita eilute\n",
      "Dar viena ar kita eilute\n",
      "Dar viena ar kita eilute\n",
      "Dar viena ar kita eilute\n",
      "Dar viena ar kita eilute\n",
      "Dar viena ar kita eilute\n",
      "viso gero"
     ]
    }
   ],
   "source": [
    "# iesko tuscios eilutes ir ja radus sustoja programa\n",
    "with open(\"Naujas/labas.txt\", \"r\") as failas:\n",
    "    for eilute in failas:\n",
    "        print(eilute, end=\"\")"
   ]
  },
  {
   "cell_type": "code",
   "execution_count": 302,
   "metadata": {},
   "outputs": [
    {
     "name": "stdout",
     "output_type": "stream",
     "text": [
      "Prirasom k\n",
      "azka i pri\n",
      "eki\n",
      "Dar vi\n",
      "ena ar kit\n",
      "a eilute\n",
      "D\n",
      "ar viena a\n",
      "r kita eil\n",
      "ute\n",
      "Dar vi\n",
      "ena ar kit\n",
      "a eilute\n",
      "D\n",
      "ar viena a\n",
      "r kita eil\n",
      "ute\n",
      "Dar vi\n",
      "ena ar kit\n",
      "a eilute\n",
      "D\n",
      "ar viena a\n",
      "r kita eil\n",
      "ute\n",
      "Dar vi\n",
      "ena ar kit\n",
      "a eilute\n",
      "v\n",
      "iso gero\n"
     ]
    }
   ],
   "source": [
    "# skaitom faila per buferi kuri fiktyviai padarom LABAI maza (10 simboliu)\n",
    "with open(\"Naujas/labas.txt\", \"r\") as failas:\n",
    "    while True:\n",
    "        buferis = failas.read(10)\n",
    "        print(buferis)\n",
    "        if len(buferis) < 10:\n",
    "            break"
   ]
  },
  {
   "cell_type": "code",
   "execution_count": 310,
   "metadata": {},
   "outputs": [],
   "source": [
    "# kopijuojam labas.txt i kopija.txt\n",
    "with open(\"Naujas/labas.txt\", \"r\") as failas:\n",
    "    with open(\"Naujas/kopija.txt\", \"w\") as kopija:\n",
    "        while True:\n",
    "            buferis = failas.read(15)\n",
    "            kopija.write(buferis)\n",
    "            if len(buferis) < 15:\n",
    "                break"
   ]
  },
  {
   "cell_type": "markdown",
   "metadata": {},
   "source": [
    "# Binary failu kopijavimas\n",
    "\n"
   ]
  },
  {
   "cell_type": "code",
   "execution_count": 320,
   "metadata": {},
   "outputs": [],
   "source": [
    "# kopijuojam labas.txt i kopija.txt\n",
    "with open(\"Naujas/labas.txt\", \"rb\") as failas:\n",
    "    with open(\"Naujas/kopija.txt\", \"wb\") as kopija:\n",
    "        while True:\n",
    "            buferis = failas.read(1000)\n",
    "            kopija.write(buferis)\n",
    "            if len(buferis) < 1000:\n",
    "                break"
   ]
  },
  {
   "cell_type": "code",
   "execution_count": 321,
   "metadata": {},
   "outputs": [],
   "source": [
    "# kopijuojam vaizdas.png i vaizdas2.png (binary)\n",
    "with open(\"Naujas/vaizdas.png\", \"rb\") as failas:\n",
    "    with open(\"Naujas/vaizdas2.png\", \"wb\") as kopija:\n",
    "        while True:\n",
    "            buferis = failas.read(1000)\n",
    "            kopija.write(buferis)\n",
    "            if len(buferis) < 1000:\n",
    "                break\n"
   ]
  },
  {
   "cell_type": "code",
   "execution_count": null,
   "metadata": {},
   "outputs": [],
   "source": [
    "import ivadas\n",
    "ivadas.input_demo()\n"
   ]
  },
  {
   "cell_type": "code",
   "execution_count": null,
   "metadata": {},
   "outputs": [],
   "source": [
    "from ivadas import input_demo as idemo\n",
    "idemo()"
   ]
  },
  {
   "cell_type": "code",
   "execution_count": null,
   "metadata": {},
   "outputs": [],
   "source": [
    "import this"
   ]
  },
  {
   "cell_type": "markdown",
   "metadata": {},
   "source": [
    "# Bandymai (codingbat)"
   ]
  },
  {
   "cell_type": "code",
   "execution_count": 5,
   "metadata": {},
   "outputs": [],
   "source": [
    "def diff21(n):\n",
    "  if n <= 21:\n",
    "    return 21 - n\n",
    "  else:\n",
    "    return (n -21) * 2\n"
   ]
  },
  {
   "cell_type": "markdown",
   "metadata": {},
   "source": [
    "# Monkey trouble\n"
   ]
  },
  {
   "cell_type": "code",
   "execution_count": null,
   "metadata": {},
   "outputs": [],
   "source": [
    "def monkey_trouble(a_smile, b_smile):\n",
    "  if a_smile and b_smile:\n",
    "    return True\n",
    "  if not a_smile and not b_smile:\n",
    "    return True\n",
    "  else:\n",
    "    return False"
   ]
  },
  {
   "cell_type": "markdown",
   "metadata": {},
   "source": [
    "# Parot problem"
   ]
  },
  {
   "cell_type": "code",
   "execution_count": null,
   "metadata": {},
   "outputs": [],
   "source": [
    "def parrot_trouble(talking, hour):\n",
    "  return (talking and (hour < 7 or hour > 20))\n",
    "  # Need extra parenthesis around the or clause\n",
    "  # since and binds more tightly than or.\n",
    "  # and is like arithmetic *, or is like arithmetic +"
   ]
  },
  {
   "cell_type": "markdown",
   "metadata": {},
   "source": [
    "# Sum_double\n"
   ]
  },
  {
   "cell_type": "code",
   "execution_count": null,
   "metadata": {},
   "outputs": [],
   "source": [
    "def sum_double(a, b):\n",
    "  sum = a + b\n",
    "  if a == b:\n",
    "    sum = sum * 2\n",
    "  return sum"
   ]
  },
  {
   "cell_type": "markdown",
   "metadata": {},
   "source": [
    "Makes 10"
   ]
  },
  {
   "cell_type": "code",
   "execution_count": null,
   "metadata": {},
   "outputs": [],
   "source": [
    "# Given 2 ints, a and b, return True if one if them is 10 or if their sum is 10.\n",
    "\n",
    "def makes10(a, b):\n",
    "  return (a == 10 or b == 10 or a+b == 10)"
   ]
  },
  {
   "cell_type": "markdown",
   "metadata": {},
   "source": [
    "near_hundred"
   ]
  },
  {
   "cell_type": "code",
   "execution_count": 10,
   "metadata": {},
   "outputs": [
    {
     "data": {
      "text/plain": [
       "False"
      ]
     },
     "execution_count": 10,
     "metadata": {},
     "output_type": "execute_result"
    }
   ],
   "source": [
    "def near_hundred(n):\n",
    "  return ((abs(100 - n) <= 10) or (abs(200 - n) <= 10))\n",
    "near_hundred(89)"
   ]
  },
  {
   "cell_type": "markdown",
   "metadata": {},
   "source": [
    "pos_neg"
   ]
  },
  {
   "cell_type": "code",
   "execution_count": null,
   "metadata": {},
   "outputs": [],
   "source": [
    "def pos_neg(a, b, negative):\n",
    "  if negative:\n",
    "    return (a < 0 and b < 0)\n",
    "  else:\n",
    "    return (a < 0 and b > 0) or (a > 0 and b < 0)\n"
   ]
  },
  {
   "cell_type": "markdown",
   "metadata": {},
   "source": [
    "not string"
   ]
  },
  {
   "cell_type": "code",
   "execution_count": null,
   "metadata": {},
   "outputs": [],
   "source": [
    "def not_string(str):\n",
    "  if len(str) >= 3 and str[:3] == \"not\":\n",
    "    return str\n",
    "  return \"not \" + str"
   ]
  },
  {
   "cell_type": "markdown",
   "metadata": {},
   "source": [
    "missing_char"
   ]
  },
  {
   "cell_type": "code",
   "execution_count": 22,
   "metadata": {},
   "outputs": [
    {
     "data": {
      "text/plain": [
       "'krabs'"
      ]
     },
     "execution_count": 22,
     "metadata": {},
     "output_type": "execute_result"
    }
   ],
   "source": [
    "def missing_char(str, n):\n",
    "  front = str[:n]\n",
    "  back = str[n+1:]\n",
    "  return front + back\n",
    "\n",
    "missing_char(\"krabas\", 4)"
   ]
  },
  {
   "cell_type": "markdown",
   "metadata": {},
   "source": [
    "front_back"
   ]
  },
  {
   "cell_type": "code",
   "execution_count": 23,
   "metadata": {},
   "outputs": [
    {
     "data": {
      "text/plain": [
       "'yonkem'"
      ]
     },
     "execution_count": 23,
     "metadata": {},
     "output_type": "execute_result"
    }
   ],
   "source": [
    "def front_back(str):\n",
    "  if len(str) <= 1:\n",
    "    return str\n",
    "  mid = str[1:len(str)-1] or str[1:-1]\n",
    "  return str[len(str)-1] + mid + str[0]\n",
    "\n",
    "front_back(\"monkey\")"
   ]
  }
 ],
 "metadata": {
  "kernelspec": {
   "display_name": "Python 3.10.6 ('venv': venv)",
   "language": "python",
   "name": "python3"
  },
  "language_info": {
   "codemirror_mode": {
    "name": "ipython",
    "version": 3
   },
   "file_extension": ".py",
   "mimetype": "text/x-python",
   "name": "python",
   "nbconvert_exporter": "python",
   "pygments_lexer": "ipython3",
   "version": "3.10.6"
  },
  "orig_nbformat": 4,
  "vscode": {
   "interpreter": {
    "hash": "0554f7b18533e7252936f1677319fe792fcfaa3b68a1b30b6f53e5a9d9de55c6"
   }
  }
 },
 "nbformat": 4,
 "nbformat_minor": 2
}
