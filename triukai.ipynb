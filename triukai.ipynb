{
 "cells": [
  {
   "cell_type": "code",
   "execution_count": 131,
   "metadata": {},
   "outputs": [
    {
     "name": "stdout",
     "output_type": "stream",
     "text": [
      "[16, 9, 81, 36, 4]\n"
     ]
    }
   ],
   "source": [
    "sarasas = [4, 3, 9, 6, 2]\n",
    "\n",
    "rezultatas = []\n",
    "for skaicius in sarasas:\n",
    "    rezultatas.append(skaicius ** 2)\n",
    "\n",
    "print(rezultatas)"
   ]
  },
  {
   "cell_type": "markdown",
   "metadata": {},
   "source": [
    "Lambda funkcijos"
   ]
  },
  {
   "cell_type": "code",
   "execution_count": 132,
   "metadata": {},
   "outputs": [
    {
     "name": "stdout",
     "output_type": "stream",
     "text": [
      "16\n"
     ]
    }
   ],
   "source": [
    "kvadratu = lambda x: x ** 2 # atspats kaip funkcija su return\n",
    "print(kvadratu(4))"
   ]
  },
  {
   "cell_type": "code",
   "execution_count": 133,
   "metadata": {},
   "outputs": [
    {
     "data": {
      "text/plain": [
       "<function __main__.<lambda>(x)>"
      ]
     },
     "execution_count": 133,
     "metadata": {},
     "output_type": "execute_result"
    }
   ],
   "source": [
    "lambda x: x ** 2"
   ]
  },
  {
   "cell_type": "code",
   "execution_count": 134,
   "metadata": {},
   "outputs": [],
   "source": [
    "def kvadratu(x):\n",
    "    return x * 2"
   ]
  },
  {
   "cell_type": "code",
   "execution_count": 135,
   "metadata": {},
   "outputs": [
    {
     "name": "stdout",
     "output_type": "stream",
     "text": [
      "[16, 9, 81, 36, 4]\n"
     ]
    }
   ],
   "source": [
    "# map funkcija ivykdo argumente nurodyta funkcija, antrame argumente nurodyta elementui \n",
    "naujas = list(map(lambda x: x ** 2, sarasas))\n",
    "print(list(naujas))"
   ]
  },
  {
   "cell_type": "code",
   "execution_count": 136,
   "metadata": {},
   "outputs": [
    {
     "name": "stdout",
     "output_type": "stream",
     "text": [
      "[64, 27, 729, 216, 8]\n"
     ]
    }
   ],
   "source": [
    "print(list(map(lambda x: x ** 3, sarasas))) # su map() funkcija taikoma tik iteruojamiems objektams. map() pritaiko kitos funkcijos veikikma viasm sarasui"
   ]
  },
  {
   "cell_type": "code",
   "execution_count": 137,
   "metadata": {},
   "outputs": [
    {
     "name": "stdout",
     "output_type": "stream",
     "text": [
      "[8, 6, 18, 12, 4]\n"
     ]
    }
   ],
   "source": [
    "print(list(map(kvadratu, sarasas))) # pavyzdys kad map galima naudi su betkokia funkcija"
   ]
  },
  {
   "cell_type": "code",
   "execution_count": 138,
   "metadata": {},
   "outputs": [
    {
     "name": "stdout",
     "output_type": "stream",
     "text": [
      "[16, 9, 81, 36, 4]\n",
      "[4.0, 3.0, 9.0, 6.0, 2.0]\n",
      "[4, 3, 9, 6, 2]\n"
     ]
    }
   ],
   "source": [
    "import math\n",
    "print(list(naujas))\n",
    "print(list(map(math.sqrt, naujas))) # gaunam float atsakyma # eiliskumas prasideda is desines i kaire (nuo vidiniu skliaustu i isorinius)\n",
    "print(list(map(int, list(map(math.sqrt, naujas))))) # guanam int atsakyma # eiliskumas prasideda is desines i kaire (nuo vidiniu skliaustu i isorinius)"
   ]
  },
  {
   "cell_type": "markdown",
   "metadata": {},
   "source": [
    "Triukai su map"
   ]
  },
  {
   "cell_type": "code",
   "execution_count": 139,
   "metadata": {},
   "outputs": [
    {
     "name": "stdout",
     "output_type": "stream",
     "text": [
      "[2022, 2, 22]\n"
     ]
    }
   ],
   "source": [
    "data = \"2022-02-22\"\n",
    "ymd = map(int, data.split(\"-\"))\n",
    "print(list(ymd))"
   ]
  },
  {
   "cell_type": "code",
   "execution_count": 140,
   "metadata": {},
   "outputs": [
    {
     "name": "stdout",
     "output_type": "stream",
     "text": [
      "1999 12 31\n"
     ]
    }
   ],
   "source": [
    "data = \"1999-12-31\"\n",
    "metai, menuo, diena = map(int, data.split(\"-\"))\n",
    "print(metai, menuo, diena)"
   ]
  },
  {
   "cell_type": "code",
   "execution_count": 141,
   "metadata": {},
   "outputs": [
    {
     "name": "stdout",
     "output_type": "stream",
     "text": [
      "1999-12-31\n"
     ]
    }
   ],
   "source": [
    "import datetime\n",
    "print(datetime.date(metai, menuo, diena))"
   ]
  },
  {
   "cell_type": "code",
   "execution_count": 142,
   "metadata": {},
   "outputs": [
    {
     "name": "stdout",
     "output_type": "stream",
     "text": [
      "1983-03-19\n",
      "<class 'datetime.date'>\n"
     ]
    }
   ],
   "source": [
    "datele = \"1983-03-19\"\n",
    "gimtadienis = datetime.date(*map(int, datele.split(\"-\")))\n",
    "print(gimtadienis)\n",
    "print(type(gimtadienis))"
   ]
  },
  {
   "cell_type": "code",
   "execution_count": 143,
   "metadata": {},
   "outputs": [
    {
     "name": "stdout",
     "output_type": "stream",
     "text": [
      "1983-03-19\n"
     ]
    }
   ],
   "source": [
    "datele = \"1983-03-19\"\n",
    "gimtadienis = datetime.datetime.strptime(datele, \"%Y-%m-%d\")\n",
    "print(gimtadienis.date())"
   ]
  },
  {
   "cell_type": "markdown",
   "metadata": {},
   "source": [
    "# filter() funkcija"
   ]
  },
  {
   "cell_type": "code",
   "execution_count": 144,
   "metadata": {},
   "outputs": [
    {
     "name": "stdout",
     "output_type": "stream",
     "text": [
      "[4, 6, 2]\n"
     ]
    }
   ],
   "source": [
    "sarasas = [4, 3, 7, 9, 6, 2]\n",
    "def lyginiais(sarasas):\n",
    "    atsakymas = []\n",
    "    for skaicius in sarasas:\n",
    "        if skaicius % 2 ==0:\n",
    "            atsakymas.append(skaicius)\n",
    "    return atsakymas\n",
    "print(lyginiais(sarasas))"
   ]
  },
  {
   "cell_type": "code",
   "execution_count": 145,
   "metadata": {},
   "outputs": [
    {
     "name": "stdout",
     "output_type": "stream",
     "text": [
      "[3, 9, 6]\n"
     ]
    }
   ],
   "source": [
    "is_triju = list(filter(lambda skaicius: skaicius % 3 == 0, sarasas)) # lambda skirta vienkartinem anoniminem funkcijom\n",
    "print(is_triju)"
   ]
  },
  {
   "cell_type": "code",
   "execution_count": 146,
   "metadata": {},
   "outputs": [
    {
     "name": "stdout",
     "output_type": "stream",
     "text": [
      "[3, 9, 6]\n"
     ]
    }
   ],
   "source": [
    "def is_triju(skaicius):\n",
    "    return skaicius % 3 == 0\n",
    "\n",
    "print(list(filter(is_triju, sarasas))) # filter() reikalauja logines israiskos"
   ]
  },
  {
   "cell_type": "code",
   "execution_count": 147,
   "metadata": {},
   "outputs": [
    {
     "name": "stdout",
     "output_type": "stream",
     "text": [
      "[0, 4, 8, 12, 16, 20, 24, 28, 32, 36, 40, 44, 48, 52, 56, 60, 64, 68, 72, 76, 80, 84, 88, 92, 96, 104, 108, 112, 116, 120, 124, 128, 132, 136, 140, 144, 148, 152, 156, 160, 164, 168, 172, 176, 180, 184, 188, 192, 196, 204, 208, 212, 216, 220, 224, 228, 232, 236, 240, 244, 248, 252, 256, 260, 264, 268, 272, 276, 280, 284, 288, 292, 296, 304, 308, 312, 316, 320, 324, 328, 332, 336, 340, 344, 348, 352, 356, 360, 364, 368, 372, 376, 380, 384, 388, 392, 396, 400, 404, 408, 412, 416, 420, 424, 428, 432, 436, 440, 444, 448, 452, 456, 460, 464, 468, 472, 476, 480, 484, 488, 492, 496, 504, 508, 512, 516, 520, 524, 528, 532, 536, 540, 544, 548, 552, 556, 560, 564, 568, 572, 576, 580, 584, 588, 592, 596, 604, 608, 612, 616, 620, 624, 628, 632, 636, 640, 644, 648, 652, 656, 660, 664, 668, 672, 676, 680, 684, 688, 692, 696, 704, 708, 712, 716, 720, 724, 728, 732, 736, 740, 744, 748, 752, 756, 760, 764, 768, 772, 776, 780, 784, 788, 792, 796, 800, 804, 808, 812, 816, 820, 824, 828, 832, 836, 840, 844, 848, 852, 856, 860, 864, 868, 872, 876, 880, 884, 888, 892, 896, 904, 908, 912, 916, 920, 924, 928, 932, 936, 940, 944, 948, 952, 956, 960, 964, 968, 972, 976, 980, 984, 988, 992, 996, 1004, 1008, 1012, 1016, 1020, 1024, 1028, 1032, 1036, 1040, 1044, 1048, 1052, 1056, 1060, 1064, 1068, 1072, 1076, 1080, 1084, 1088, 1092, 1096, 1104, 1108, 1112, 1116, 1120, 1124, 1128, 1132, 1136, 1140, 1144, 1148, 1152, 1156, 1160, 1164, 1168, 1172, 1176, 1180, 1184, 1188, 1192, 1196, 1200, 1204, 1208, 1212, 1216, 1220, 1224, 1228, 1232, 1236, 1240, 1244, 1248, 1252, 1256, 1260, 1264, 1268, 1272, 1276, 1280, 1284, 1288, 1292, 1296, 1304, 1308, 1312, 1316, 1320, 1324, 1328, 1332, 1336, 1340, 1344, 1348, 1352, 1356, 1360, 1364, 1368, 1372, 1376, 1380, 1384, 1388, 1392, 1396, 1404, 1408, 1412, 1416, 1420, 1424, 1428, 1432, 1436, 1440, 1444, 1448, 1452, 1456, 1460, 1464, 1468, 1472, 1476, 1480, 1484, 1488, 1492, 1496, 1504, 1508, 1512, 1516, 1520, 1524, 1528, 1532, 1536, 1540, 1544, 1548, 1552, 1556, 1560, 1564, 1568, 1572, 1576, 1580, 1584, 1588, 1592, 1596, 1600, 1604, 1608, 1612, 1616, 1620, 1624, 1628, 1632, 1636, 1640, 1644, 1648, 1652, 1656, 1660, 1664, 1668, 1672, 1676, 1680, 1684, 1688, 1692, 1696, 1704, 1708, 1712, 1716, 1720, 1724, 1728, 1732, 1736, 1740, 1744, 1748, 1752, 1756, 1760, 1764, 1768, 1772, 1776, 1780, 1784, 1788, 1792, 1796, 1804, 1808, 1812, 1816, 1820, 1824, 1828, 1832, 1836, 1840, 1844, 1848, 1852, 1856, 1860, 1864, 1868, 1872, 1876, 1880, 1884, 1888, 1892, 1896, 1904, 1908, 1912, 1916, 1920, 1924, 1928, 1932, 1936, 1940, 1944, 1948, 1952, 1956, 1960, 1964, 1968, 1972, 1976, 1980, 1984, 1988, 1992, 1996, 2000, 2004, 2008, 2012, 2016, 2020, 2024, 2028, 2032, 2036, 2040, 2044, 2048, 2052, 2056, 2060, 2064, 2068, 2072, 2076, 2080, 2084, 2088, 2092, 2096, 2104, 2108, 2112, 2116, 2120]\n"
     ]
    }
   ],
   "source": [
    "from calendar import isleap # keliamieji metai (easy mdoe)\n",
    "metai = range(2122)\n",
    "print(list(filter(isleap, metai)))"
   ]
  },
  {
   "cell_type": "markdown",
   "metadata": {},
   "source": [
    "# reduce() funkcija"
   ]
  },
  {
   "cell_type": "code",
   "execution_count": 148,
   "metadata": {},
   "outputs": [
    {
     "name": "stdout",
     "output_type": "stream",
     "text": [
      "31\n"
     ]
    }
   ],
   "source": [
    "from functools import reduce\n",
    "sarasas = [4, 3, 7, 9, 6, 2]\n",
    "\n",
    "# sumuojam sarasa be ciklo\n",
    "nauajs = reduce(lambda x, y: x + y, sarasas)\n",
    "print(nauajs)\n",
    "\n"
   ]
  },
  {
   "cell_type": "code",
   "execution_count": 149,
   "metadata": {},
   "outputs": [
    {
     "name": "stdout",
     "output_type": "stream",
     "text": [
      "9072\n"
     ]
    }
   ],
   "source": [
    "from functools import reduce\n",
    "sarasas = [4, 3, 7, 9, 6, 2]\n",
    "\n",
    "# daugybos reduktorius\n",
    "nauajs = reduce(lambda x, y: x * y, sarasas)\n",
    "print(nauajs)\n"
   ]
  },
  {
   "cell_type": "markdown",
   "metadata": {},
   "source": [
    "# statistines funkcijos"
   ]
  },
  {
   "cell_type": "code",
   "execution_count": 150,
   "metadata": {},
   "outputs": [],
   "source": [
    "sarasas = [4, 3, -5, 2, 1, 5, -7, 6, 7, 0, 10, 9, 8, -10, -9]"
   ]
  },
  {
   "cell_type": "code",
   "execution_count": 151,
   "metadata": {},
   "outputs": [
    {
     "name": "stdout",
     "output_type": "stream",
     "text": [
      "suma:  24\n",
      "min:  -10\n",
      "max:  10\n",
      "vidurkis:  1.6\n",
      "mediana:  3\n",
      "skaiciu:  15\n"
     ]
    }
   ],
   "source": [
    "from statistics import mean, median\n",
    "\n",
    "print(\"suma: \", sum(sarasas))\n",
    "print(\"min: \", min(sarasas))\n",
    "print(\"max: \", max(sarasas))\n",
    "print(\"vidurkis: \", mean(sarasas))\n",
    "print(\"mediana: \", median(sarasas))\n",
    "print(\"skaiciu: \", len(sarasas))"
   ]
  },
  {
   "cell_type": "markdown",
   "metadata": {},
   "source": [
    "# rusiavimas"
   ]
  },
  {
   "cell_type": "code",
   "execution_count": 152,
   "metadata": {},
   "outputs": [
    {
     "name": "stdout",
     "output_type": "stream",
     "text": [
      "[-10, -9, -7, -5, 0, 1, 2, 3, 4, 5, 6, 7, 8, 9, 10]\n"
     ]
    }
   ],
   "source": [
    "print(sorted(sarasas)) # rusiuoja nuo maziausio iki didziausio"
   ]
  },
  {
   "cell_type": "code",
   "execution_count": 153,
   "metadata": {},
   "outputs": [
    {
     "name": "stdout",
     "output_type": "stream",
     "text": [
      "[-10, -9, -7, -5, 0, 1, 2, 3, 4, 5, 6, 7, 8, 9, 10]\n"
     ]
    }
   ],
   "source": [
    "sarasas.sort() # sarasa galima pakeisti proceduriskai\n",
    "print(sarasas)"
   ]
  },
  {
   "cell_type": "code",
   "execution_count": 154,
   "metadata": {},
   "outputs": [
    {
     "name": "stdout",
     "output_type": "stream",
     "text": [
      "[10, 9, 8, 7, 6, 5, 4, 3, 2, 1, 0, -5, -7, -9, -10]\n"
     ]
    }
   ],
   "source": [
    "print(sorted(sarasas, reverse=True))"
   ]
  },
  {
   "cell_type": "code",
   "execution_count": 155,
   "metadata": {},
   "outputs": [
    {
     "name": "stdout",
     "output_type": "stream",
     "text": [
      "[-10, -9, -7, -5, 0, 1, 2, 3, 4, 5, 6, 7, 8, 9, 10]\n"
     ]
    }
   ],
   "source": [
    "print(sarasas)"
   ]
  },
  {
   "cell_type": "code",
   "execution_count": 156,
   "metadata": {},
   "outputs": [
    {
     "name": "stdout",
     "output_type": "stream",
     "text": [
      "[10, 9, 8, 7, 6, 5, 4, 3, 2, 1, 0, -5, -7, -9, -10]\n"
     ]
    }
   ],
   "source": [
    "sarasas.sort(reverse=True) # tik sarasui veikia .sort visiem kitiem kaip tuple neveiks\n",
    "print(sarasas)"
   ]
  },
  {
   "cell_type": "code",
   "execution_count": 157,
   "metadata": {},
   "outputs": [
    {
     "name": "stdout",
     "output_type": "stream",
     "text": [
      "[-10, -9, -7, -5, 0, 1, 2, 3, 4, 5, 6, 7, 8, 9, 10]\n"
     ]
    }
   ],
   "source": [
    "tupliux = (10, 9, 8, 7, 6, 5, 4, 3, 2, 1, 0, -5, -7, -9, -10)\n",
    "sarasiux = sorted(tupliux) # taip veikia tuple sorted()\n",
    "print(sarasiux)"
   ]
  },
  {
   "cell_type": "code",
   "execution_count": 158,
   "metadata": {},
   "outputs": [
    {
     "name": "stdout",
     "output_type": "stream",
     "text": [
      "[10, 9, 8, 7, 6, 5, 4, 3, 2, 1]\n"
     ]
    }
   ],
   "source": [
    "print(sorted(range(1, 11), reverse=True))"
   ]
  },
  {
   "cell_type": "code",
   "execution_count": 159,
   "metadata": {},
   "outputs": [
    {
     "name": "stdout",
     "output_type": "stream",
     "text": [
      "10\n",
      "9\n",
      "8\n",
      "7\n",
      "6\n",
      "5\n",
      "4\n",
      "3\n",
      "2\n",
      "1\n",
      "Liftoff!!\n"
     ]
    }
   ],
   "source": [
    "from time import sleep\n",
    "for sec in sorted(range(1, 11), reverse=True):\n",
    "    print(sec)\n",
    "    sleep(1)\n",
    "else:\n",
    "    print(\"Liftoff!!\")\n"
   ]
  },
  {
   "cell_type": "markdown",
   "metadata": {},
   "source": [
    "## zodynu rusiavimas"
   ]
  },
  {
   "cell_type": "code",
   "execution_count": 160,
   "metadata": {},
   "outputs": [
    {
     "name": "stdout",
     "output_type": "stream",
     "text": [
      "['amzius', 'atlyginimas', 'lytis', 'nuotaika', 'pavarde', 'vaisius', 'vardas']\n",
      "['!!!!!! gera', '2000', '28', 'Simas', 'Venskus', 'abrikosas', 'neBoba']\n"
     ]
    }
   ],
   "source": [
    "zmogena = {\n",
    "    \"vardas\": \"Simas\",\n",
    "    \"pavarde\": \"Venskus\",\n",
    "    \"amzius\": 28,\n",
    "    \"lytis\": \"neBoba\",\n",
    "    \"atlyginimas\": 2000,\n",
    "    \"vaisius\": \"abrikosas\",\n",
    "    \"nuotaika\": \"!!!!!! gera\"\n",
    "\n",
    "}\n",
    "\n",
    "print(sorted(zmogena))\n",
    "print(sorted(list(map(str, zmogena.values()))))"
   ]
  },
  {
   "cell_type": "markdown",
   "metadata": {},
   "source": [
    "## objektu rusiavimas"
   ]
  },
  {
   "cell_type": "code",
   "execution_count": 161,
   "metadata": {},
   "outputs": [
    {
     "name": "stdout",
     "output_type": "stream",
     "text": [
      "[Linas Norkus, uzdirba 1999 30 metu, vyras, Simas Venskus, uzdirba 2999 29 metu, vyras, Ingrida Vaitkuviene, uzdirba 3101 30 metu, moteris, Darius Veteranas, uzdirba 5000 50 metu, vyras]\n"
     ]
    }
   ],
   "source": [
    "class Darbuotojas:\n",
    "    def __init__(self, vardas, pavarde, amzius=18, alga=0, lytis=\"vyras\"):\n",
    "        self.vardas = vardas\n",
    "        self.pavarde = pavarde\n",
    "        self.amzius = amzius\n",
    "        self.alga = alga\n",
    "        self.lytis = lytis \n",
    "\n",
    "    def __repr__(self):\n",
    "        return f\"{self.vardas} {self.pavarde}, uzdirba {self.alga} {self.amzius} metu, {self.lytis}\"\n",
    "\n",
    "d1 = Darbuotojas(\"Simas\", \"Venskus\", 29, 2999)\n",
    "d2 = Darbuotojas(\"Ingrida\", \"Vaitkuviene\", 30, 3101, \"moteris\")\n",
    "d3 = Darbuotojas(\"Linas\", \"Norkus\", 30, 1999)\n",
    "d4 = Darbuotojas(\"Darius\", \"Veteranas\", 50, 5000)\n",
    "darbuotojai = [d1, d2, d3, d4]\n",
    "\n",
    "def rusiavimas(darbuotojas):\n",
    "    return darbuotojas.alga\n",
    "\n",
    "pagal_varda = sorted(darbuotojai, key=rusiavimas)\n",
    "print(pagal_varda)"
   ]
  },
  {
   "cell_type": "code",
   "execution_count": 162,
   "metadata": {},
   "outputs": [
    {
     "name": "stdout",
     "output_type": "stream",
     "text": [
      "[Linas Norkus, uzdirba 1999 30 metu, vyras, Simas Venskus, uzdirba 2999 29 metu, vyras, Ingrida Vaitkuviene, uzdirba 3101 30 metu, moteris, Darius Veteranas, uzdirba 5000 50 metu, vyras]\n"
     ]
    }
   ],
   "source": [
    "def rusiavimas_pagal_alga(darbuotojas):\n",
    "    return darbuotojas.alga\n",
    "\n",
    "pagal_alga = sorted(darbuotojai, key=rusiavimas_pagal_alga)\n",
    "print(pagal_alga)\n"
   ]
  },
  {
   "cell_type": "code",
   "execution_count": 163,
   "metadata": {},
   "outputs": [
    {
     "name": "stdout",
     "output_type": "stream",
     "text": [
      "[Simas Venskus, uzdirba 2999 29 metu, vyras, Ingrida Vaitkuviene, uzdirba 3101 30 metu, moteris, Linas Norkus, uzdirba 1999 30 metu, vyras, Darius Veteranas, uzdirba 5000 50 metu, vyras]\n"
     ]
    }
   ],
   "source": [
    "pagal_amziu = sorted(darbuotojai, key=lambda darbuotojas: darbuotojas.amzius)\n",
    "print(pagal_amziu)"
   ]
  },
  {
   "cell_type": "code",
   "execution_count": 164,
   "metadata": {},
   "outputs": [
    {
     "name": "stdout",
     "output_type": "stream",
     "text": [
      "[Linas Norkus, uzdirba 1999 30 metu, vyras, Ingrida Vaitkuviene, uzdirba 3101 30 metu, moteris, Simas Venskus, uzdirba 2999 29 metu, vyras, Darius Veteranas, uzdirba 5000 50 metu, vyras]\n"
     ]
    }
   ],
   "source": [
    "from operator import attrgetter\n",
    "pagal_pavarde = sorted(darbuotojai, key=attrgetter(\"pavarde\"))\n",
    "print(pagal_pavarde)"
   ]
  },
  {
   "cell_type": "markdown",
   "metadata": {},
   "source": [
    "# list comprehansion (saraso apibrezimas)"
   ]
  },
  {
   "cell_type": "code",
   "execution_count": 165,
   "metadata": {},
   "outputs": [
    {
     "name": "stdout",
     "output_type": "stream",
     "text": [
      "[4, 3, 2, 1, 5, 6, 7, 10, 9, 8]\n"
     ]
    }
   ],
   "source": [
    "sarasas = [4, 3, -5, 2, 1, 5, -7, 6, 7, 0, 10, 9, 8, -10, -9]\n",
    "teigiami = [skaicius for skaicius in sarasas if skaicius > 0]\n",
    "print(teigiami)\n"
   ]
  },
  {
   "cell_type": "code",
   "execution_count": 166,
   "metadata": {},
   "outputs": [
    {
     "name": "stdout",
     "output_type": "stream",
     "text": [
      "[4, 2, 6, 0, 10, 8, -10]\n"
     ]
    }
   ],
   "source": [
    "lyginiai = [skaicius for skaicius in sarasas if skaicius % 2 == 0]\n",
    "print(lyginiai)"
   ]
  },
  {
   "cell_type": "code",
   "execution_count": null,
   "metadata": {},
   "outputs": [],
   "source": [
    "lyginiai = []\n",
    "for skaicius in sarasas:\n",
    "    if skaicius % 2 == 0:\n",
    "        lyginiai.append(skaicius)\n",
    "print(lyginiai)"
   ]
  },
  {
   "cell_type": "code",
   "execution_count": 169,
   "metadata": {},
   "outputs": [
    {
     "name": "stdout",
     "output_type": "stream",
     "text": [
      "[4, 2, 6, 0, 10, 8, -10]\n"
     ]
    }
   ],
   "source": [
    "def lyginiai(skaiciai):\n",
    "    rezultatas = []\n",
    "    for skaicius in skaiciai:\n",
    "        if skaicius % 2 == 0:\n",
    "            rezultatas.append(skaicius)\n",
    "    return rezultatas\n",
    "print(lyginiai(sarasas))\n"
   ]
  },
  {
   "cell_type": "code",
   "execution_count": 170,
   "metadata": {},
   "outputs": [
    {
     "name": "stdout",
     "output_type": "stream",
     "text": [
      "[16, 9, 25, 4, 1, 25, 49, 36, 49, 0, 100, 81, 64, 100, 81]\n"
     ]
    }
   ],
   "source": [
    "kvadratai = [x ** 2 for x in sarasas]\n",
    "print(kvadratai)"
   ]
  },
  {
   "cell_type": "code",
   "execution_count": 190,
   "metadata": {},
   "outputs": [
    {
     "name": "stdout",
     "output_type": "stream",
     "text": [
      "3\n",
      "5\n",
      "[25, -1, 3.14, 42.69, -3]\n",
      "Labas Rytas gera diena\n"
     ]
    }
   ],
   "source": [
    "salotos  = [\"Labas\", \"Rytas\", 25, False, -1, 3.14, [1, 2, 3], {\"vakar\": -30}, 42.69, -3, \"gera diena\"]\n",
    "int_kiekis = sum(type(elementas) is int for elementas in salotos)\n",
    "print(int_kiekis)\n",
    "\n",
    "skaiciu_kiekis = sum(type(elem) in (int, float) for elem in salotos)\n",
    "print(skaiciu_kiekis)\n",
    "\n",
    "skaiciai = [elem for elem in salotos if type(elem) in (int, float)]\n",
    "print(skaiciai)\n",
    "\n",
    "stringai = \" \".join([elem for elem in salotos if type(elem) is str])\n",
    "print(stringai)"
   ]
  },
  {
   "cell_type": "code",
   "execution_count": null,
   "metadata": {},
   "outputs": [],
   "source": [
    "isinstance() # tikrina ar padaryta pagal klases sablona"
   ]
  }
 ],
 "metadata": {
  "kernelspec": {
   "display_name": "Python 3.10.6 ('venv': venv)",
   "language": "python",
   "name": "python3"
  },
  "language_info": {
   "codemirror_mode": {
    "name": "ipython",
    "version": 3
   },
   "file_extension": ".py",
   "mimetype": "text/x-python",
   "name": "python",
   "nbconvert_exporter": "python",
   "pygments_lexer": "ipython3",
   "version": "3.10.6"
  },
  "orig_nbformat": 4,
  "vscode": {
   "interpreter": {
    "hash": "0554f7b18533e7252936f1677319fe792fcfaa3b68a1b30b6f53e5a9d9de55c6"
   }
  }
 },
 "nbformat": 4,
 "nbformat_minor": 2
}
