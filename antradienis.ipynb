{
 "cells": [
  {
   "cell_type": "markdown",
   "metadata": {},
   "source": [
    "# kintamieji ir kintamuju tipai"
   ]
  },
  {
   "cell_type": "code",
   "execution_count": 470,
   "metadata": {},
   "outputs": [
    {
     "name": "stdout",
     "output_type": "stream",
     "text": [
      "5\n"
     ]
    }
   ],
   "source": [
    "a = 5\n",
    "print(a)"
   ]
  },
  {
   "cell_type": "markdown",
   "metadata": {},
   "source": [
    "sudedam du tekstus konvertuodami teksta i skaiciu"
   ]
  },
  {
   "cell_type": "code",
   "execution_count": 471,
   "metadata": {},
   "outputs": [
    {
     "name": "stdout",
     "output_type": "stream",
     "text": [
      "10\n"
     ]
    }
   ],
   "source": [
    "t = \"5\"\n",
    "print(int(t)+a)"
   ]
  },
  {
   "cell_type": "code",
   "execution_count": 472,
   "metadata": {},
   "outputs": [
    {
     "name": "stdout",
     "output_type": "stream",
     "text": [
      "<class 'int'>\n",
      "5\n"
     ]
    }
   ],
   "source": [
    "at = int(t)\n",
    "print(type(at))\n",
    "print(at)"
   ]
  },
  {
   "cell_type": "markdown",
   "metadata": {},
   "source": [
    "sudedam du tekstus kovertuodami skaiciu i teksta"
   ]
  },
  {
   "cell_type": "code",
   "execution_count": 473,
   "metadata": {},
   "outputs": [
    {
     "name": "stdout",
     "output_type": "stream",
     "text": [
      "55\n"
     ]
    }
   ],
   "source": [
    "print(t+str(a))\n"
   ]
  },
  {
   "cell_type": "markdown",
   "metadata": {},
   "source": [
    "... per f\"\" funkcija (f\"\" vercia viska i teksta)"
   ]
  },
  {
   "cell_type": "code",
   "execution_count": 474,
   "metadata": {},
   "outputs": [
    {
     "name": "stdout",
     "output_type": "stream",
     "text": [
      "Skaicius 5\n"
     ]
    }
   ],
   "source": [
    "print(f\"Skaicius {a}\")"
   ]
  },
  {
   "cell_type": "markdown",
   "metadata": {},
   "source": [
    "kodas pythone"
   ]
  },
  {
   "cell_type": "code",
   "execution_count": 475,
   "metadata": {},
   "outputs": [
    {
     "name": "stdout",
     "output_type": "stream",
     "text": [
      "10\n",
      "55\n"
     ]
    }
   ],
   "source": [
    "a = 5\n",
    "t = \"5\"\n",
    "print(a+int(t)) # int is teksto i skaiciu\n",
    "print(t+str(a)) # str is sakiciaus i teksta"
   ]
  },
  {
   "cell_type": "markdown",
   "metadata": {},
   "source": [
    "# Realieji skaiciai"
   ]
  },
  {
   "cell_type": "code",
   "execution_count": 476,
   "metadata": {},
   "outputs": [
    {
     "name": "stdout",
     "output_type": "stream",
     "text": [
      "42.69\n"
     ]
    }
   ],
   "source": [
    "r = 42.69\n",
    "print(r)"
   ]
  },
  {
   "cell_type": "code",
   "execution_count": 477,
   "metadata": {},
   "outputs": [
    {
     "name": "stdout",
     "output_type": "stream",
     "text": [
      "47.69\n"
     ]
    }
   ],
   "source": [
    "print(r+a)"
   ]
  },
  {
   "cell_type": "code",
   "execution_count": 478,
   "metadata": {},
   "outputs": [
    {
     "name": "stdout",
     "output_type": "stream",
     "text": [
      "5\n",
      "5.0\n"
     ]
    }
   ],
   "source": [
    "print(a)\n",
    "print(float(a)) # float realus sakivius (po kablelio)"
   ]
  },
  {
   "cell_type": "code",
   "execution_count": 479,
   "metadata": {},
   "outputs": [
    {
     "name": "stdout",
     "output_type": "stream",
     "text": [
      "2.5\n",
      "2\n",
      "2\n"
     ]
    }
   ],
   "source": [
    "print(a/2)\n",
    "print(int(a/2)) # konvertuodamas nutrina vias reiksmes po kablelio\n",
    "print(round(int(a/2)))"
   ]
  },
  {
   "cell_type": "markdown",
   "metadata": {},
   "source": [
    "# Kintamuju esme"
   ]
  },
  {
   "cell_type": "code",
   "execution_count": 480,
   "metadata": {},
   "outputs": [
    {
     "data": {
      "text/plain": [
       "int"
      ]
     },
     "execution_count": 480,
     "metadata": {},
     "output_type": "execute_result"
    }
   ],
   "source": [
    "type(a) # int"
   ]
  },
  {
   "cell_type": "code",
   "execution_count": 481,
   "metadata": {},
   "outputs": [
    {
     "data": {
      "text/plain": [
       "float"
      ]
     },
     "execution_count": 481,
     "metadata": {},
     "output_type": "execute_result"
    }
   ],
   "source": [
    "type(a/2) # float"
   ]
  },
  {
   "cell_type": "code",
   "execution_count": 482,
   "metadata": {},
   "outputs": [
    {
     "name": "stdout",
     "output_type": "stream",
     "text": [
      "2.5\n",
      "7.5\n"
     ]
    }
   ],
   "source": [
    "dalyba = a/2\n",
    "print(dalyba)\n",
    "print(dalyba*3)"
   ]
  },
  {
   "cell_type": "markdown",
   "metadata": {},
   "source": [
    "# Kintamuju pavadinimai"
   ]
  },
  {
   "cell_type": "code",
   "execution_count": 483,
   "metadata": {},
   "outputs": [
    {
     "name": "stdout",
     "output_type": "stream",
     "text": [
      "how are you? I'm ok\n",
      "I'm qouting you: \"tripple qputes not!\"\n"
     ]
    }
   ],
   "source": [
    "tekstas_su_kabutemis = 'how are you? I\\'m ok'\n",
    "Tekstas_su_dvigubom = \"I'm qouting you: \\\"tripple qputes not!\\\"\"\n",
    "print(tekstas_su_kabutemis, Tekstas_su_dvigubom, sep=\"\\n\")"
   ]
  },
  {
   "cell_type": "code",
   "execution_count": 484,
   "metadata": {},
   "outputs": [
    {
     "name": "stdout",
     "output_type": "stream",
     "text": [
      "777\n"
     ]
    }
   ],
   "source": [
    "lukcy7 = 777\n",
    "print(lukcy7)"
   ]
  },
  {
   "cell_type": "code",
   "execution_count": 485,
   "metadata": {},
   "outputs": [
    {
     "name": "stdout",
     "output_type": "stream",
     "text": [
      "Baublys\n",
      "Didelis baublys\n"
     ]
    }
   ],
   "source": [
    "vardas = \"Baublys\"\n",
    "print(vardas)\n",
    "Vardas = \"Didelis baublys\"\n",
    "print(Vardas)"
   ]
  },
  {
   "cell_type": "code",
   "execution_count": 486,
   "metadata": {},
   "outputs": [
    {
     "name": "stdout",
     "output_type": "stream",
     "text": [
      "777\n"
     ]
    }
   ],
   "source": [
    "TechniskaiToksKintamasisVeiks = 777\n",
    "print(TechniskaiToksKintamasisVeiks)"
   ]
  },
  {
   "cell_type": "code",
   "execution_count": 487,
   "metadata": {},
   "outputs": [
    {
     "name": "stdout",
     "output_type": "stream",
     "text": [
      "4 underscorai\n"
     ]
    }
   ],
   "source": [
    "____ = \"4 underscorai\"\n",
    "print(____)"
   ]
  },
  {
   "cell_type": "markdown",
   "metadata": {},
   "source": [
    "# Kitos funkcijos"
   ]
  },
  {
   "cell_type": "code",
   "execution_count": 488,
   "metadata": {},
   "outputs": [
    {
     "name": "stdout",
     "output_type": "stream",
     "text": [
      "6\n"
     ]
    }
   ],
   "source": [
    "a = 5\n",
    "b = a + 1\n",
    "print(b)"
   ]
  },
  {
   "cell_type": "code",
   "execution_count": 489,
   "metadata": {},
   "outputs": [
    {
     "name": "stdout",
     "output_type": "stream",
     "text": [
      "11\n"
     ]
    }
   ],
   "source": [
    "b += a\n",
    "print(b)"
   ]
  },
  {
   "cell_type": "code",
   "execution_count": 490,
   "metadata": {},
   "outputs": [
    {
     "name": "stdout",
     "output_type": "stream",
     "text": [
      "16\n"
     ]
    }
   ],
   "source": [
    "b = b + a\n",
    "print(b)\n"
   ]
  },
  {
   "cell_type": "code",
   "execution_count": 491,
   "metadata": {},
   "outputs": [
    {
     "name": "stdout",
     "output_type": "stream",
     "text": [
      "13\n"
     ]
    }
   ],
   "source": [
    "b -= 3\n",
    "print(b)"
   ]
  },
  {
   "cell_type": "code",
   "execution_count": 492,
   "metadata": {},
   "outputs": [
    {
     "name": "stdout",
     "output_type": "stream",
     "text": [
      "26\n"
     ]
    }
   ],
   "source": [
    "b *= 2\n",
    "print(b)"
   ]
  },
  {
   "cell_type": "code",
   "execution_count": 493,
   "metadata": {},
   "outputs": [
    {
     "name": "stdout",
     "output_type": "stream",
     "text": [
      "8.666666666666666\n"
     ]
    }
   ],
   "source": [
    "b /= 3\n",
    "print(b)"
   ]
  },
  {
   "cell_type": "code",
   "execution_count": 494,
   "metadata": {},
   "outputs": [
    {
     "name": "stdout",
     "output_type": "stream",
     "text": [
      "0\n"
     ]
    }
   ],
   "source": [
    "lankytojai = 0\n",
    "print(lankytojai)"
   ]
  },
  {
   "cell_type": "code",
   "execution_count": 495,
   "metadata": {},
   "outputs": [
    {
     "name": "stdout",
     "output_type": "stream",
     "text": [
      "1\n"
     ]
    }
   ],
   "source": [
    "lankytojai += 1\n",
    "print(lankytojai)"
   ]
  },
  {
   "cell_type": "code",
   "execution_count": 496,
   "metadata": {},
   "outputs": [
    {
     "name": "stdout",
     "output_type": "stream",
     "text": [
      "25\n"
     ]
    }
   ],
   "source": [
    "kvadratu = a**2\n",
    "print(kvadratu)"
   ]
  },
  {
   "cell_type": "code",
   "execution_count": 497,
   "metadata": {},
   "outputs": [
    {
     "name": "stdout",
     "output_type": "stream",
     "text": [
      "25\n",
      "5.0\n"
     ]
    }
   ],
   "source": [
    "import math\n",
    "print(kvadratu)\n",
    "saknis = sqrt(kvadratu)\n",
    "print(saknis)"
   ]
  },
  {
   "cell_type": "markdown",
   "metadata": {},
   "source": [
    "# Dalybos operatoriai"
   ]
  },
  {
   "cell_type": "markdown",
   "metadata": {},
   "source": [
    "dalyba be liekanos"
   ]
  },
  {
   "cell_type": "code",
   "execution_count": 498,
   "metadata": {},
   "outputs": [
    {
     "name": "stdout",
     "output_type": "stream",
     "text": [
      "12\n"
     ]
    }
   ],
   "source": [
    "print(kvadratu // 2)    #gaunam atsakyma int\n"
   ]
  },
  {
   "cell_type": "markdown",
   "metadata": {},
   "source": [
    "dalyba su liekana"
   ]
  },
  {
   "cell_type": "code",
   "execution_count": 499,
   "metadata": {},
   "outputs": [
    {
     "name": "stdout",
     "output_type": "stream",
     "text": [
      "12.5\n"
     ]
    }
   ],
   "source": [
    "print(kvadratu / 2)    #gaunam atsakyma float"
   ]
  },
  {
   "cell_type": "markdown",
   "metadata": {},
   "source": [
    "gaunam tik liekana"
   ]
  },
  {
   "cell_type": "code",
   "execution_count": 500,
   "metadata": {},
   "outputs": [
    {
     "name": "stdout",
     "output_type": "stream",
     "text": [
      "1\n"
     ]
    }
   ],
   "source": [
    "print(kvadratu%2)"
   ]
  },
  {
   "cell_type": "code",
   "execution_count": 501,
   "metadata": {},
   "outputs": [
    {
     "name": "stdout",
     "output_type": "stream",
     "text": [
      "101\n",
      "33\n",
      "2\n"
     ]
    }
   ],
   "source": [
    "simtas_vienas = kvadratu*4+1\n",
    "print(simtas_vienas)\n",
    "print(simtas_vienas//3)\n",
    "print(simtas_vienas%3)"
   ]
  },
  {
   "cell_type": "markdown",
   "metadata": {},
   "source": [
    "# Teksto karpymas"
   ]
  },
  {
   "cell_type": "code",
   "execution_count": 502,
   "metadata": {},
   "outputs": [],
   "source": [
    "#slicing = create a substring by extracting elements from another string\n",
    "#          indexing[] or slice()\n",
    "#          [start:stop:step]\n",
    "#          (start,stop,step)"
   ]
  },
  {
   "cell_type": "code",
   "execution_count": 503,
   "metadata": {},
   "outputs": [
    {
     "name": "stdout",
     "output_type": "stream",
     "text": [
      "A\n",
      "m\n"
     ]
    }
   ],
   "source": [
    "zodis = \"CodeAcademy\"\n",
    "print(zodis[4])\n",
    "print(zodis[-2])"
   ]
  },
  {
   "cell_type": "code",
   "execution_count": 504,
   "metadata": {},
   "outputs": [
    {
     "name": "stdout",
     "output_type": "stream",
     "text": [
      "Code\n",
      "Academy\n",
      "deAc\n",
      "---\n",
      "CdAaey\n",
      "oecdm\n",
      "ymedacAedoC\n"
     ]
    }
   ],
   "source": [
    "print(zodis[:4])\n",
    "print(zodis[4:])\n",
    "print(zodis[2:2+4])\n",
    "print(\"---\")\n",
    "print(zodis[::2])\n",
    "print(zodis[1::2])\n",
    "print(zodis[::-1])"
   ]
  },
  {
   "cell_type": "markdown",
   "metadata": {},
   "source": [
    "Sarasas"
   ]
  },
  {
   "cell_type": "code",
   "execution_count": 505,
   "metadata": {},
   "outputs": [
    {
     "name": "stdout",
     "output_type": "stream",
     "text": [
      "['Code', 'Academy']\n"
     ]
    }
   ],
   "source": [
    "zodis2 = \"Code Academy\"\n",
    "print(zodis2.split())"
   ]
  },
  {
   "cell_type": "code",
   "execution_count": 506,
   "metadata": {},
   "outputs": [
    {
     "name": "stdout",
     "output_type": "stream",
     "text": [
      "CODE ACADEMY\n",
      "code academy\n"
     ]
    }
   ],
   "source": [
    "print(zodis2.upper())\n",
    "print(zodis2.lower())"
   ]
  },
  {
   "cell_type": "code",
   "execution_count": 507,
   "metadata": {},
   "outputs": [
    {
     "name": "stdout",
     "output_type": "stream",
     "text": [
      "Code academy\n"
     ]
    }
   ],
   "source": [
    "mazosiomis = zodis2.lower()\n",
    "print(mazosiomis.capitalize())"
   ]
  },
  {
   "cell_type": "code",
   "execution_count": 508,
   "metadata": {},
   "outputs": [
    {
     "name": "stdout",
     "output_type": "stream",
     "text": [
      "Code Akademy\n",
      "Fun Academy\n",
      "Fun academy\n"
     ]
    }
   ],
   "source": [
    "print(zodis2.replace(\"c\", \"k\"))\n",
    "print(zodis2.replace(\"Code\", \"Fun\"))\n",
    "print(zodis2.casefold().replace(\"CODE\".casefold(), \"Fun\")) #CODE casefold nekreipia demesio i raidziu dydi (iesko zodzio)"
   ]
  },
  {
   "cell_type": "code",
   "execution_count": 509,
   "metadata": {},
   "outputs": [
    {
     "name": "stdout",
     "output_type": "stream",
     "text": [
      "Mokomes Python 5 dienu Code Academy\n",
      "Mokomes Python 5 dienu Code Academy\n"
     ]
    }
   ],
   "source": [
    "veiksmas = \"Mokomes Python\"\n",
    "print(veiksmas + \" \" + str(a) + \" dienu \" + zodis2)     #negrazu\n",
    "print(f\"{veiksmas} {a} dienu {zodis2}\")     #grazu\n"
   ]
  },
  {
   "cell_type": "markdown",
   "metadata": {},
   "source": [
    "# input"
   ]
  },
  {
   "cell_type": "code",
   "execution_count": 510,
   "metadata": {},
   "outputs": [
    {
     "name": "stdout",
     "output_type": "stream",
     "text": [
      "Sakinys: asd sad.\n"
     ]
    }
   ],
   "source": [
    "#       input funkcijos demo\n",
    "\n",
    "pirmas = input(\"iveskite pirma zodi: \")\n",
    "antras = input(\"iveskite antra zodi: \")\n",
    "print(f\"Sakinys: {pirmas} {antras}.\")"
   ]
  },
  {
   "cell_type": "code",
   "execution_count": 536,
   "metadata": {},
   "outputs": [
    {
     "name": "stdout",
     "output_type": "stream",
     "text": [
      "Sakinys: 10.\n"
     ]
    }
   ],
   "source": [
    "#       input funkcijos demo\n",
    "\n",
    "pirmas = input(\"iveskite pirma skaiciu: \")\n",
    "antras = input(\"iveskite antra skaiciu: \")\n",
    "print(f\"Sakinys: {int(pirmas)+int(antras)}.\")"
   ]
  },
  {
   "cell_type": "code",
   "execution_count": null,
   "metadata": {},
   "outputs": [
    {
     "name": "stdout",
     "output_type": "stream",
     "text": [
      "Sumass: (10, 10).\n"
     ]
    }
   ],
   "source": [
    "pirmas = int(input(\"iveskite pirma skaiciu: \"))\n",
    "antras = int(input(\"iveskite antra skaiciu: \"))\n",
    "print(f\"Sumas: {pirmas+antras}.\")"
   ]
  },
  {
   "cell_type": "code",
   "execution_count": null,
   "metadata": {},
   "outputs": [],
   "source": [
    "pirmas = int(input(\"iveskite pirma skaiciu: \"))\n",
    "antras = int(input(\"iveskite antra skaiciu: \"))\n",
    "print(f\"Sumas: {pirmas,antras}.\")"
   ]
  },
  {
   "cell_type": "markdown",
   "metadata": {},
   "source": [
    "# Logika"
   ]
  },
  {
   "cell_type": "code",
   "execution_count": null,
   "metadata": {},
   "outputs": [
    {
     "name": "stdout",
     "output_type": "stream",
     "text": [
      "True\n",
      "False\n",
      "True\n",
      "True\n",
      "False\n",
      "True\n"
     ]
    }
   ],
   "source": [
    "print(5==5)\n",
    "print(2+2==5)\n",
    "print(2+2==4)\n",
    "print(2+2!=5)\n",
    "print(3<2)\n",
    "print(14/2>=7)"
   ]
  },
  {
   "cell_type": "markdown",
   "metadata": {},
   "source": [
    "# IF ELSE statment"
   ]
  },
  {
   "cell_type": "code",
   "execution_count": null,
   "metadata": {},
   "outputs": [
    {
     "name": "stdout",
     "output_type": "stream",
     "text": [
      "Skaicius daugiau uz nuli\n"
     ]
    }
   ],
   "source": [
    "skaicius = 7\n",
    "if skaicius > 0:\n",
    "    print(\"Skaicius daugiau uz nuli\")\n",
    "else:\n",
    "    print(\"skaicius maziau uz nuli\")"
   ]
  },
  {
   "cell_type": "code",
   "execution_count": null,
   "metadata": {},
   "outputs": [
    {
     "name": "stdout",
     "output_type": "stream",
     "text": [
      "skaicius maziau uz nuli\n"
     ]
    }
   ],
   "source": [
    "skaicius = -7\n",
    "if skaicius > 0:\n",
    "    print(\"Skaicius daugiau uz nuli\")\n",
    "else:\n",
    "    print(\"skaicius maziau uz nuli\")"
   ]
  },
  {
   "cell_type": "code",
   "execution_count": null,
   "metadata": {},
   "outputs": [
    {
     "name": "stdout",
     "output_type": "stream",
     "text": [
      "Skaicius lygus nuliui\n"
     ]
    }
   ],
   "source": [
    "skaicius = 0\n",
    "if skaicius > 0:\n",
    "    print(\"Skaicius daugiau uz nuli\")\n",
    "elif skaicius == 0:\n",
    "    print(\"Skaicius lygus nuliui\")\n",
    "else:\n",
    "    print(\"skaicius maziau uz nuli\")"
   ]
  },
  {
   "cell_type": "code",
   "execution_count": 512,
   "metadata": {},
   "outputs": [
    {
     "name": "stdout",
     "output_type": "stream",
     "text": [
      "0 lygus nuliui\n"
     ]
    }
   ],
   "source": [
    "skaicius = 0\n",
    "if skaicius > 0:\n",
    "    print(f\"{skaicius} daugiau uz nuli\")\n",
    "elif skaicius == 0:\n",
    "    print(f\"{skaicius} lygus nuliui\")\n",
    "else:\n",
    "    print(f\"{skaicius} maziau uz nuli\")"
   ]
  },
  {
   "cell_type": "markdown",
   "metadata": {},
   "source": [
    "# Nesting"
   ]
  },
  {
   "cell_type": "code",
   "execution_count": 534,
   "metadata": {},
   "outputs": [
    {
     "name": "stdout",
     "output_type": "stream",
     "text": [
      "skaicius 0 yra daugiau uz 0 arba lygus 0\n",
      "skaicius 0 yra maziau uz 10\n"
     ]
    }
   ],
   "source": [
    "skaicius = 0\n",
    "if skaicius >= 0: \n",
    "    print(f\"skaicius {skaicius} yra daugiau uz 0 arba lygus 0\")\n",
    "    if skaicius >= 10:\n",
    "        print(f\"skaicius {skaicius} yra daugiau arba lygus 10\")\n",
    "    else:\n",
    "        print(f\"skaicius {skaicius} yra maziau uz 10\")\n",
    "else:\n",
    "    print(f\"skaicius {skaicius} yra maziau uz 0\")\n"
   ]
  },
  {
   "cell_type": "code",
   "execution_count": 1,
   "metadata": {},
   "outputs": [
    {
     "name": "stdout",
     "output_type": "stream",
     "text": [
      "2 number of times\n"
     ]
    }
   ],
   "source": [
    "myText = \"I love Paris, Paris is my favorite tourist destination\"\n",
    "numofCounts = myText.count(\"Paris\")\n",
    "print(\"{} number of times\".format(numofCounts)) # format is the inbuilt "
   ]
  },
  {
   "cell_type": "code",
   "execution_count": 538,
   "metadata": {},
   "outputs": [
    {
     "name": "stdout",
     "output_type": "stream",
     "text": [
      "0\n"
     ]
    }
   ],
   "source": [
    "a = 0\n",
    "b = 0\n",
    "\n",
    "result = b and a / b\n",
    "\n",
    "print(result)"
   ]
  },
  {
   "cell_type": "code",
   "execution_count": 539,
   "metadata": {},
   "outputs": [
    {
     "name": "stdout",
     "output_type": "stream",
     "text": [
      "0\n"
     ]
    }
   ],
   "source": [
    "try:\n",
    "    result = a / b\n",
    "except ZeroDivisionError:\n",
    "    result = 0\n",
    "\n",
    "print(result)"
   ]
  },
  {
   "cell_type": "code",
   "execution_count": 550,
   "metadata": {},
   "outputs": [
    {
     "name": "stdout",
     "output_type": "stream",
     "text": [
      "Atsakymas = 1.0\n"
     ]
    }
   ],
   "source": [
    "a = int(input(\"Iveskite skaiciu a:\\n\"))\n",
    "b = int(input(\"Iveskite skaiciu b:\\n\"))\n",
    "\n",
    "x = input(\"Koki matematini veiksma norite atlikti?\\n\")\n",
    "\n",
    "\n",
    "\n",
    "\n",
    "\n",
    "\n",
    "if x == \"*\":\n",
    "    print(f\"Atsakymas = {a*b}\")\n",
    "elif x == \"/\" and a > 0 or b > 0:\n",
    "    print(f\"Atsakymas = {a/b}\")\n",
    "    try:\n",
    "        result = a / b\n",
    "    except ZeroDivisionError:\n",
    "        result = 0\n",
    "        print(f\"Atsakymas = {result}\")\n",
    "elif x == \"+\":\n",
    "    print(f\"Atsakymas = {a+b}\")\n",
    "    if x == \"-\":\n",
    "        print(f\"Atsakymas = {a-b}\")\n",
    "else:\n",
    "    print(\"Sorry, taip gudrai nepavyks! :D\")\n",
    "    exit\n",
    "\n",
    "\n",
    "# if x == \"/\":\n",
    "    # print(a/b)\n",
    "# elif x == \"+\":\n",
    "    # print(a+b)\n",
    "# elif x == \"-\":\n",
    "    # print(a-b)\n",
    "# else:\n",
    "    # print(\"Sorry, taip gudrai nepavyks! :D\")\n",
    "    # exit\n",
    "\n",
    "\n",
    "# print(f\"Skaicius {a}\")"
   ]
  },
  {
   "cell_type": "markdown",
   "metadata": {},
   "source": [
    "# veikiantis kodas"
   ]
  },
  {
   "cell_type": "code",
   "execution_count": 551,
   "metadata": {},
   "outputs": [
    {
     "name": "stdout",
     "output_type": "stream",
     "text": [
      "5.0\n"
     ]
    }
   ],
   "source": [
    "a = int(input(\"Iveskite skaiciu a:\\n\"))\n",
    "b = int(input(\"Iveskite skaiciu b:\\n\"))\n",
    "\n",
    "x = input(\"Koki matematini veiksma norite atlikti?\\n\")\n",
    "\n",
    "\n",
    "\n",
    "\n",
    "\n",
    "\n",
    "if x == \"*\":\n",
    "    print(a*b)\n",
    "elif x == \"/\" and a > 0 or b > 0:\n",
    "    print(a/b)\n",
    "else:\n",
    "    try:\n",
    "        result = a / b\n",
    "    except ZeroDivisionError:\n",
    "        result = 0\n",
    "        print(result)\n",
    "    else:\n",
    "        if x == \"+\":\n",
    "            print(a+b)\n",
    "        if x == \"-\":\n",
    "            print(a-b)\n"
   ]
  }
 ],
 "metadata": {
  "kernelspec": {
   "display_name": "Python 3.10.6 ('venv': venv)",
   "language": "python",
   "name": "python3"
  },
  "language_info": {
   "codemirror_mode": {
    "name": "ipython",
    "version": 3
   },
   "file_extension": ".py",
   "mimetype": "text/x-python",
   "name": "python",
   "nbconvert_exporter": "python",
   "pygments_lexer": "ipython3",
   "version": "3.10.6"
  },
  "orig_nbformat": 4,
  "vscode": {
   "interpreter": {
    "hash": "0554f7b18533e7252936f1677319fe792fcfaa3b68a1b30b6f53e5a9d9de55c6"
   }
  }
 },
 "nbformat": 4,
 "nbformat_minor": 2
}
