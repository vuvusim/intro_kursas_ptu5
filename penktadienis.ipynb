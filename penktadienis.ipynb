{
 "cells": [
  {
   "cell_type": "markdown",
   "metadata": {},
   "source": [
    "# Esmine logika"
   ]
  },
  {
   "cell_type": "code",
   "execution_count": 81,
   "metadata": {},
   "outputs": [
    {
     "name": "stdout",
     "output_type": "stream",
     "text": [
      "True\n"
     ]
    }
   ],
   "source": [
    "tiesa = True\n",
    "print(tiesa)"
   ]
  },
  {
   "cell_type": "code",
   "execution_count": 82,
   "metadata": {},
   "outputs": [
    {
     "name": "stdout",
     "output_type": "stream",
     "text": [
      "False\n"
     ]
    }
   ],
   "source": [
    "melas = False\n",
    "print(melas)"
   ]
  },
  {
   "cell_type": "code",
   "execution_count": 83,
   "metadata": {},
   "outputs": [
    {
     "data": {
      "text/plain": [
       "False"
      ]
     },
     "execution_count": 83,
     "metadata": {},
     "output_type": "execute_result"
    }
   ],
   "source": [
    "tiesa and melas "
   ]
  },
  {
   "cell_type": "code",
   "execution_count": 84,
   "metadata": {},
   "outputs": [
    {
     "data": {
      "text/plain": [
       "True"
      ]
     },
     "execution_count": 84,
     "metadata": {},
     "output_type": "execute_result"
    }
   ],
   "source": [
    "tiesa or melas"
   ]
  },
  {
   "cell_type": "code",
   "execution_count": 85,
   "metadata": {},
   "outputs": [
    {
     "data": {
      "text/plain": [
       "True"
      ]
     },
     "execution_count": 85,
     "metadata": {},
     "output_type": "execute_result"
    }
   ],
   "source": [
    "not tiesa == melas"
   ]
  },
  {
   "cell_type": "code",
   "execution_count": 86,
   "metadata": {},
   "outputs": [
    {
     "data": {
      "text/plain": [
       "True"
      ]
     },
     "execution_count": 86,
     "metadata": {},
     "output_type": "execute_result"
    }
   ],
   "source": [
    "not melas"
   ]
  },
  {
   "cell_type": "markdown",
   "metadata": {},
   "source": [
    "# Loginio kintamojo tipas (boolean), bool"
   ]
  },
  {
   "cell_type": "code",
   "execution_count": 87,
   "metadata": {},
   "outputs": [
    {
     "data": {
      "text/plain": [
       "bool"
      ]
     },
     "execution_count": 87,
     "metadata": {},
     "output_type": "execute_result"
    }
   ],
   "source": [
    "type(tiesa)"
   ]
  },
  {
   "cell_type": "code",
   "execution_count": 88,
   "metadata": {},
   "outputs": [
    {
     "data": {
      "text/plain": [
       "False"
      ]
     },
     "execution_count": 88,
     "metadata": {},
     "output_type": "execute_result"
    }
   ],
   "source": [
    "bool()"
   ]
  },
  {
   "cell_type": "code",
   "execution_count": 89,
   "metadata": {},
   "outputs": [
    {
     "data": {
      "text/plain": [
       "0"
      ]
     },
     "execution_count": 89,
     "metadata": {},
     "output_type": "execute_result"
    }
   ],
   "source": [
    "int()"
   ]
  },
  {
   "cell_type": "code",
   "execution_count": 90,
   "metadata": {},
   "outputs": [
    {
     "data": {
      "text/plain": [
       "1"
      ]
     },
     "execution_count": 90,
     "metadata": {},
     "output_type": "execute_result"
    }
   ],
   "source": [
    "int(tiesa)"
   ]
  },
  {
   "cell_type": "code",
   "execution_count": 91,
   "metadata": {},
   "outputs": [
    {
     "data": {
      "text/plain": [
       "True"
      ]
     },
     "execution_count": 91,
     "metadata": {},
     "output_type": "execute_result"
    }
   ],
   "source": [
    "bool(2)"
   ]
  },
  {
   "cell_type": "code",
   "execution_count": 92,
   "metadata": {},
   "outputs": [
    {
     "data": {
      "text/plain": [
       "True"
      ]
     },
     "execution_count": 92,
     "metadata": {},
     "output_type": "execute_result"
    }
   ],
   "source": [
    "bool(0.0000001)"
   ]
  },
  {
   "cell_type": "code",
   "execution_count": 93,
   "metadata": {},
   "outputs": [
    {
     "data": {
      "text/plain": [
       "False"
      ]
     },
     "execution_count": 93,
     "metadata": {},
     "output_type": "execute_result"
    }
   ],
   "source": [
    "bool(0)"
   ]
  },
  {
   "cell_type": "code",
   "execution_count": 94,
   "metadata": {},
   "outputs": [
    {
     "name": "stdout",
     "output_type": "stream",
     "text": [
      "meluojam\n",
      "nemeluojam\n"
     ]
    }
   ],
   "source": [
    "if melas == 0:\n",
    "    print(\"meluojam\")\n",
    "if tiesa == 1:\n",
    "    print(\"nemeluojam\")\n"
   ]
  },
  {
   "cell_type": "code",
   "execution_count": 95,
   "metadata": {},
   "outputs": [
    {
     "data": {
      "text/plain": [
       "'5'"
      ]
     },
     "execution_count": 95,
     "metadata": {},
     "output_type": "execute_result"
    }
   ],
   "source": [
    "str(5)"
   ]
  },
  {
   "cell_type": "code",
   "execution_count": 96,
   "metadata": {},
   "outputs": [
    {
     "name": "stdout",
     "output_type": "stream",
     "text": [
      "0.0\n",
      "False\n"
     ]
    }
   ],
   "source": [
    "tuscias_realus = float() # abu teisingai\n",
    "tuscias_realus2 = 0.0\n",
    "\n",
    "print(tuscias_realus)\n",
    "\n",
    "# konvertuojam i bool\n",
    "print(bool(float()))"
   ]
  },
  {
   "cell_type": "markdown",
   "metadata": {},
   "source": [
    "# pavyzdys su find"
   ]
  },
  {
   "cell_type": "code",
   "execution_count": 97,
   "metadata": {},
   "outputs": [
    {
     "name": "stdout",
     "output_type": "stream",
     "text": [
      "0\n",
      "False\n",
      "radau\n",
      "radau\n"
     ]
    }
   ],
   "source": [
    "tekstux = \"Savaitgalis pareina\"\n",
    "\n",
    "print(tekstux.find(\"Savaitgalis\"))\n",
    "print(bool(tekstux.find(\"Savaitgalis\")))\n",
    "\n",
    "# teisingas\n",
    "if tekstux.find(\"Savaitgalis\") >= 0:\n",
    "    print(\"radau\")\n",
    "else:\n",
    "    print(\"neradau\")\n",
    "\n",
    "# teisingas    \n",
    "if tekstux.find(\"Savaitgalis\") > -1:\n",
    "    print(\"radau\")\n",
    "else:\n",
    "    print(\"neradau\")"
   ]
  },
  {
   "cell_type": "code",
   "execution_count": 98,
   "metadata": {},
   "outputs": [
    {
     "name": "stdout",
     "output_type": "stream",
     "text": [
      "tekstas egzistuoja\n",
      "tekstas neegzistuoja\n"
     ]
    }
   ],
   "source": [
    "if tekstux:\n",
    "    print(\"tekstas egzistuoja\")\n",
    "\n",
    "tustux = \"\"\n",
    "if tustux:\n",
    "    print(\"tekstas egzistuoja\")\n",
    "else:\n",
    "    print(\"tekstas neegzistuoja\")"
   ]
  },
  {
   "cell_type": "markdown",
   "metadata": {},
   "source": [
    "# type()"
   ]
  },
  {
   "cell_type": "code",
   "execution_count": 99,
   "metadata": {},
   "outputs": [
    {
     "name": "stdout",
     "output_type": "stream",
     "text": [
      "<class 'bool'>\n",
      "<class 'int'>\n",
      "<class 'float'>\n",
      "<class 'str'>\n",
      "<class 'list'>\n",
      "<class 'set'>\n",
      "<class 'dict'>\n",
      "<class 'tuple'>\n"
     ]
    }
   ],
   "source": [
    "print(type(tiesa))\n",
    "print(type(1))\n",
    "print(type(1.1))\n",
    "print(type(\"Labas\"))\n",
    "print(type([1, 2, 3]))\n",
    "print(type({\"raktas\", \"namas\", \"batas\"}))\n",
    "print(type({\"ratas\": \"reiksme\"}))\n",
    "print(type((tiesa, melas)))\n"
   ]
  },
  {
   "cell_type": "code",
   "execution_count": 100,
   "metadata": {},
   "outputs": [
    {
     "name": "stdout",
     "output_type": "stream",
     "text": [
      "(1, 2, 3)\n",
      "<class 'tuple'>\n",
      "1\n",
      "(1, 2)\n"
     ]
    }
   ],
   "source": [
    "tuplius = (1, 2, 3)\n",
    "print(tuplius)\n",
    "\n",
    "type(tuplius)\n",
    "print(type(tuplius))\n",
    "print(tuplius[0])\n",
    "print(tuplius[:2])\n",
    "\n",
    "# tuple argumentu keisti negalima\n",
    "# tuplius[2] = 0 "
   ]
  },
  {
   "cell_type": "code",
   "execution_count": 101,
   "metadata": {},
   "outputs": [
    {
     "name": "stdout",
     "output_type": "stream",
     "text": [
      "!!! ciklas !!!\n",
      "vardas studentas\n",
      "<class 'list'>\n",
      "sarasas ['varednis', 'studentas']\n",
      "tuple ('vardas', 'studentas')\n",
      "sarasas_it ['vardas', 'studentas']\n",
      "naujas studentas ('praraktas', 'studentas')\n",
      "!!! ciklas !!!\n",
      "pavarde moksliukas\n",
      "<class 'list'>\n",
      "sarasas ['varednis', 'moksliukas']\n",
      "tuple ('pavarde', 'moksliukas')\n",
      "sarasas_it ['pavarde', 'moksliukas']\n",
      "naujas studentas ('praraktas', 'moksliukas')\n"
     ]
    }
   ],
   "source": [
    "zodynas = {\"vardas\": \"studentas\", \"pavarde\": \"moksliukas\"}\n",
    "for raktas, reiksme in zodynas.items():\n",
    "    print(\"!!! ciklas !!!\")\n",
    "    print(raktas, reiksme)\n",
    "    print(type([raktas, reiksme]))\n",
    "    #sukuriam saras\n",
    "    studentas_sarasas = [raktas, reiksme]\n",
    "    # sukuriam tuple\n",
    "    studentas_tuple = (raktas, reiksme)\n",
    "    raktas = \"praraktas\"\n",
    "    naujas_studentas = (raktas, reiksme)\n",
    "    studentas_sarasas_is_tuples = list(studentas_tuple)\n",
    "    # keiciam sarasa\n",
    "    studentas_sarasas[0] = \"varednis\"\n",
    "    # keiciam tuple (negalima)\n",
    "    # studentas_tuple[1] = \"pavardenis\" # negalima tuples negalima keist\n",
    "    print(\"sarasas\", studentas_sarasas)\n",
    "    print(\"tuple\", studentas_tuple)\n",
    "    print(\"sarasas_it\", studentas_sarasas_is_tuples)\n",
    "    print(\"naujas studentas\", naujas_studentas)\n"
   ]
  },
  {
   "cell_type": "code",
   "execution_count": 109,
   "metadata": {},
   "outputs": [
    {
     "name": "stdout",
     "output_type": "stream",
     "text": [
      "5\n",
      "5 yra sveikas skaicius, pridedam prie 0\n",
      "\n",
      "11\n",
      "11 yra sveikas skaicius, pridedam prie 5\n",
      "\n",
      "-3\n",
      "-3 yra sveikas skaicius, pridedam prie 16\n",
      "\n",
      "labas\n",
      "labas nera skaicius, praleidziam\n",
      "\n",
      "True\n",
      "True yra sveikas skaicius, pridedam prie 13\n",
      "\n",
      "kibiras\n",
      "kibiras nera skaicius, praleidziam\n",
      "\n",
      "7.77\n",
      "7.77 yra sveikas skaicius, pridedam prie 14\n",
      "\n",
      "8\n",
      "8 yra sveikas skaicius, pridedam prie 21.77\n",
      "\n",
      "... ir gaunam 29.77\n"
     ]
    }
   ],
   "source": [
    "misrus_sarasas = [5, 11, -3, \"labas\", True, \"kibiras\", 7.77, 8]\n",
    "suma = 0\n",
    "for daiktas in misrus_sarasas:\n",
    "    # atkreipiam demesi kad int, loat, bool - ne int(), float(), bool(), sulyginame su tpye(daiktas)\n",
    "    # nes lyginame duomenu tipa o ne jo inicijuota reiksme\n",
    "    print(daiktas)\n",
    "    if type(daiktas) == int or type(daiktas) == float or type(daiktas) == bool:\n",
    "        print(f\"{daiktas} yra sveikas skaicius, pridedam prie {suma}\\n\")\n",
    "        suma += daiktas\n",
    "    else:\n",
    "        print(f\"{daiktas} nera skaicius, praleidziam\\n\")\n",
    "print(f\"... ir gaunam {suma}\")"
   ]
  }
 ],
 "metadata": {
  "kernelspec": {
   "display_name": "Python 3.10.6 ('venv': venv)",
   "language": "python",
   "name": "python3"
  },
  "language_info": {
   "codemirror_mode": {
    "name": "ipython",
    "version": 3
   },
   "file_extension": ".py",
   "mimetype": "text/x-python",
   "name": "python",
   "nbconvert_exporter": "python",
   "pygments_lexer": "ipython3",
   "version": "3.10.6"
  },
  "orig_nbformat": 4,
  "vscode": {
   "interpreter": {
    "hash": "7d75aefa697f010155c3eb0376182af89d34ef69b1de20f8c9d32e6e970aa995"
   }
  }
 },
 "nbformat": 4,
 "nbformat_minor": 2
}
