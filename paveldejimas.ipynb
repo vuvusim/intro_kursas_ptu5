{
 "cells": [
  {
   "cell_type": "markdown",
   "metadata": {},
   "source": [
    "Objektinis programavimas"
   ]
  },
  {
   "cell_type": "code",
   "execution_count": 64,
   "metadata": {},
   "outputs": [],
   "source": [
    "class Gyvunas():\n",
    "    def __init__(self, vardas, spalva=\"juodas\", kojos=4):\n",
    "        self.vardas = vardas\n",
    "        self.spalva = spalva\n",
    "        self.kojos = kojos\n",
    "\n",
    "    def begti(self):\n",
    "        print(\"Begu\")"
   ]
  },
  {
   "cell_type": "markdown",
   "metadata": {},
   "source": [
    "Paveldejimas\n"
   ]
  },
  {
   "cell_type": "code",
   "execution_count": 65,
   "metadata": {},
   "outputs": [],
   "source": [
    "class Kate(Gyvunas):\n",
    "    def miaukseti(self): # self yra argumentas kuris nurodo pagal klases sukurta objekta (vardas, spalva, kojos)\n",
    "        print(\"Miau\")"
   ]
  },
  {
   "cell_type": "code",
   "execution_count": 66,
   "metadata": {},
   "outputs": [],
   "source": [
    "class Suo(Gyvunas):\n",
    "    def loti(self):\n",
    "        print(\"Au!\")"
   ]
  },
  {
   "cell_type": "markdown",
   "metadata": {},
   "source": [
    "Polimorfizmas"
   ]
  },
  {
   "cell_type": "code",
   "execution_count": 67,
   "metadata": {},
   "outputs": [],
   "source": [
    "class Vezlys(Gyvunas):\n",
    "    def begti(self):\n",
    "        super().begti() # super pasiima tevine klase ir tada vykdo koda toliau\n",
    "        print(\"as letas, labai letas... tai sliauziu\")"
   ]
  },
  {
   "cell_type": "markdown",
   "metadata": {},
   "source": [
    "Eksperimentai"
   ]
  },
  {
   "cell_type": "code",
   "execution_count": 68,
   "metadata": {},
   "outputs": [
    {
     "name": "stdout",
     "output_type": "stream",
     "text": [
      "Begu\n",
      "as letas, labai letas... tai sliauziu\n"
     ]
    }
   ],
   "source": [
    "vezlys = Vezlys(\"Donatelo\", \"zalias\")\n",
    "vezlys.begti()\n"
   ]
  },
  {
   "cell_type": "code",
   "execution_count": 69,
   "metadata": {},
   "outputs": [
    {
     "name": "stdout",
     "output_type": "stream",
     "text": [
      "Miau\n",
      "Begu\n"
     ]
    }
   ],
   "source": [
    "kaciukas = Kate(\"Gudrutis\")\n",
    "kaciukas.miaukseti()\n",
    "kaciukas.begti()"
   ]
  },
  {
   "cell_type": "code",
   "execution_count": 70,
   "metadata": {},
   "outputs": [
    {
     "name": "stdout",
     "output_type": "stream",
     "text": [
      "Au!\n",
      "Begu\n"
     ]
    }
   ],
   "source": [
    "suniukas = Suo(\"Snifius\")\n",
    "suniukas.loti()\n",
    "suniukas.begti()"
   ]
  },
  {
   "cell_type": "markdown",
   "metadata": {},
   "source": [
    "# Papildomos savybes paveldejimas klaseje"
   ]
  },
  {
   "cell_type": "code",
   "execution_count": 71,
   "metadata": {},
   "outputs": [],
   "source": [
    "class Tevas:\n",
    "    def __init__(self, vardas, amzius=18):\n",
    "        self.vardas = vardas\n",
    "        self.amzius = amzius\n",
    "\n",
    "class Vaikas(Tevas):\n",
    "    def __init__(self, vardas, mokymosi_istaiga, amzius=0):\n",
    "        # paima amzius argumentas is tevas.__init__(..., amzius=18)\n",
    "        # super().__init__(vardas)\n",
    "        # paimamas amzius argumentas is Vaikas.__init__(..., amzius=0)\n",
    "        super().__init__(vardas, amzius)\n",
    "        # paimamas amzius argumentas is Vaikas.__init__(..., amzius=0)\n",
    "        # self.amzius = amzius\n",
    "        self.mokymosi_istaiga = mokymosi_istaiga\n",
    "        "
   ]
  },
  {
   "cell_type": "code",
   "execution_count": 72,
   "metadata": {},
   "outputs": [
    {
     "name": "stdout",
     "output_type": "stream",
     "text": [
      "Geras zmogus 18\n",
      "Jaunas zmogus 0 Code Academy\n"
     ]
    }
   ],
   "source": [
    "zmogus = Tevas(\"Geras zmogus\")\n",
    "print(zmogus.vardas, zmogus.amzius)\n",
    "sunus = Vaikas(\"Jaunas zmogus\", \"Code Academy\")\n",
    "print(sunus.vardas, sunus.amzius, sunus.mokymosi_istaiga)"
   ]
  },
  {
   "cell_type": "markdown",
   "metadata": {},
   "source": [
    "# Patikrinimas"
   ]
  },
  {
   "cell_type": "code",
   "execution_count": 76,
   "metadata": {},
   "outputs": [
    {
     "name": "stdout",
     "output_type": "stream",
     "text": [
      "1000 <class '__main__.Pajamos'>\n",
      "11 <class '__main__.Islaidos'>\n",
      "70 <class '__main__.Islaidos'>\n",
      "2 <class '__main__.Islaidos'>\n",
      "menesio gale liko:  917\n"
     ]
    }
   ],
   "source": [
    "class Irasas:\n",
    "    def __init__(self, suma):\n",
    "        self.suma = suma\n",
    "\n",
    "class Pajamos(Irasas):\n",
    "    pass\n",
    "\n",
    "class Islaidos(Irasas):\n",
    "    pass\n",
    "\n",
    "\n",
    "class Biudzetas:\n",
    "    zurnalas = []\n",
    "\n",
    "    def nauajs_irasas(self, suma, tipo_klase):\n",
    "        self.zurnalas.append(tipo_klase(suma))\n",
    "\n",
    "    def isklotine(self):\n",
    "        for irasas in self.zurnalas:\n",
    "            print(irasas.suma, irasas.__class__)\n",
    "\n",
    "    def balansas(self):\n",
    "        _balansas = 0\n",
    "        for irasas in self.zurnalas:\n",
    "            if isinstance(irasas, Pajamos):\n",
    "                _balansas += irasas.suma\n",
    "            elif isinstance(irasas, Islaidos):\n",
    "                _balansas -= irasas.suma\n",
    "        return _balansas\n",
    "\n",
    "menesiukas = Biudzetas()\n",
    "menesiukas.nauajs_irasas(1000, Pajamos)\n",
    "menesiukas.nauajs_irasas(11, Islaidos)\n",
    "menesiukas.nauajs_irasas(70, Islaidos)\n",
    "menesiukas.nauajs_irasas(2, Islaidos)\n",
    "menesiukas.isklotine()\n",
    "menesiukas.balansas()\n",
    "print(\"menesio gale liko: \", menesiukas.balansas())\n"
   ]
  }
 ],
 "metadata": {
  "kernelspec": {
   "display_name": "Python 3.10.6 ('venv': venv)",
   "language": "python",
   "name": "python3"
  },
  "language_info": {
   "codemirror_mode": {
    "name": "ipython",
    "version": 3
   },
   "file_extension": ".py",
   "mimetype": "text/x-python",
   "name": "python",
   "nbconvert_exporter": "python",
   "pygments_lexer": "ipython3",
   "version": "3.10.6"
  },
  "orig_nbformat": 4,
  "vscode": {
   "interpreter": {
    "hash": "0554f7b18533e7252936f1677319fe792fcfaa3b68a1b30b6f53e5a9d9de55c6"
   }
  }
 },
 "nbformat": 4,
 "nbformat_minor": 2
}
