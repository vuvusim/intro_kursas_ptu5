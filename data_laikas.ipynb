{
 "cells": [
  {
   "cell_type": "markdown",
   "metadata": {},
   "source": [
    "# data ir laikas "
   ]
  },
  {
   "cell_type": "code",
   "execution_count": 117,
   "metadata": {},
   "outputs": [
    {
     "name": "stdout",
     "output_type": "stream",
     "text": [
      "2022-09-09 11:58:47.092264\n",
      "2022-09-09\n",
      "dabar: 2022-09-09 11:58:47.092610, tipas <class 'datetime.datetime'>\n",
      "sinadien: 2022-09-09, tipas <class 'datetime.date'>\n",
      "laikas: 11:58:47.092653, tipas<class 'datetime.time'>\n"
     ]
    }
   ],
   "source": [
    "import datetime\n",
    "\n",
    "print(datetime.datetime.now())\n",
    "print(datetime.date.today())\n",
    "\n",
    "from datetime import date, time, datetime, timedelta\n",
    "\n",
    "# print(datetime.now())\n",
    "# print(date.today)\n",
    "\n",
    "dabar = datetime.now()\n",
    "siandien = date.today()\n",
    "laikas = datetime.now().time()\n",
    "\n",
    "print(f\"dabar: {dabar}, tipas {type(dabar)}\")\n",
    "print(f\"sinadien: {siandien}, tipas {type(siandien)}\")\n",
    "print(f\"laikas: {laikas}, tipas{type(laikas)}\")\n",
    "\n"
   ]
  },
  {
   "cell_type": "code",
   "execution_count": 118,
   "metadata": {},
   "outputs": [
    {
     "name": "stdout",
     "output_type": "stream",
     "text": [
      "1994-02-19\n",
      "10:05:30\n",
      "2023-01-01 00:00:00\n",
      "Sunday, 01, January 2023 12:00AM\n",
      "2022 09 12 (Monday), 08:00:00\n",
      "2022 09 09 (Friday), 16:00:00\n"
     ]
    }
   ],
   "source": [
    "gimtadienis = date(1994, 2, 19)\n",
    "print(gimtadienis)\n",
    "\n",
    "laikas = time(10, 5, 30)\n",
    "print(laikas)\n",
    "\n",
    "naujakas = datetime(2023, 1, 1, 0, 0)\n",
    "print(naujakas)\n",
    "# %A savaites diena\n",
    "# %d diena su 0\n",
    "# %B menuo\n",
    "# %Y metai\n",
    "# %I valanda\n",
    "# %M minutes\n",
    "# %p dienos laikas (PM, AM)\n",
    "print(naujakas.strftime(\"%A, %d, %B %Y %I:%M%p\"))\n",
    "\n",
    "sekasnti_paskaita = datetime(2022, 9, 12, 8, 0, 0)\n",
    "print(sekasnti_paskaita.strftime(\"%Y %m %d (%A), %H:%M:%S\"))\n",
    "\n",
    "paskaitos_pabaiga = datetime(2022, 9, 9, 16, 0, 0)\n",
    "print(paskaitos_pabaiga.strftime(\"%Y %m %d (%A), %H:%M:%S\"))\n"
   ]
  },
  {
   "cell_type": "markdown",
   "metadata": {},
   "source": [
    "# teksto formatavimo alternatyva"
   ]
  },
  {
   "cell_type": "code",
   "execution_count": 119,
   "metadata": {},
   "outputs": [
    {
     "name": "stdout",
     "output_type": "stream",
     "text": [
      "tekstas su 20 kintamuoju\n",
      "tekstas su labas kintamuoju\n",
      "tekstas su 3.33 kintamuoju\n",
      "ozys gaidys asilas\n"
     ]
    }
   ],
   "source": [
    "# dar vienas budas formatuoti teksta, pvz. vietoi f\"stringo\" ir {curl}\n",
    "print(\"tekstas su %d kintamuoju\" % 20)\n",
    "print(\"tekstas su %s kintamuoju\" % \"labas\")\n",
    "print(\"tekstas su %0.2f kintamuoju\" % (10/3))\n",
    "\n",
    "gyvunas = \"kate\"\n",
    "gyvunas1 = \"ozys\"\n",
    "gyvunas2 = \"gaidys\"\n",
    "gyvunas3 = \"asilas\"\n",
    "\n",
    "# daugiau negu viena argumenta i procentu formatstringa paduodame per tuple\n",
    "print(\"%s %s %s\" % (gyvunas1, gyvunas2, gyvunas3))"
   ]
  },
  {
   "cell_type": "markdown",
   "metadata": {},
   "source": [
    "# datos ir laiko matematines operacijos (timedelta)"
   ]
  },
  {
   "cell_type": "code",
   "execution_count": 120,
   "metadata": {},
   "outputs": [
    {
     "name": "stdout",
     "output_type": "stream",
     "text": [
      "2022-09-09\n",
      "rytoi: 2022-09-10\n",
      "uz valandos: 2022-09-09 12:58:47.092610\n",
      "senai: 2022-08-11 08:47:47.092610\n",
      "29 days, 4:11:00\n",
      "1 day, 0:00:00\n",
      "113 days, 12:01:12.907390\n",
      "2:41:12.907390\n"
     ]
    }
   ],
   "source": [
    "print(siandien)\n",
    "\n",
    "# timedelta yra laiko skirtumas\n",
    "rytoi = siandien + timedelta(days=1)\n",
    "print(f\"rytoi: {rytoi}\")\n",
    "\n",
    "uz_valandos = dabar + timedelta(hours=1)\n",
    "print(f\"uz valandos: {uz_valandos}\")\n",
    "\n",
    "pries_beveik_menesi = dabar - timedelta(days=29, hours=3, minutes=11)\n",
    "print(f\"senai: {pries_beveik_menesi}\")\n",
    "\n",
    "print(uz_valandos - pries_beveik_menesi)\n",
    "print(rytoi - siandien)\n",
    "print(naujakas - dabar)\n",
    "print(paskaitos_pabaiga - dabar - timedelta(hours=1) - 2*timedelta(minutes=10))"
   ]
  },
  {
   "cell_type": "markdown",
   "metadata": {},
   "source": []
  },
  {
   "cell_type": "code",
   "execution_count": 121,
   "metadata": {},
   "outputs": [
    {
     "name": "stdout",
     "output_type": "stream",
     "text": [
      "iki nauju secundziu  43271\n",
      "iki nauju minuciu  721\n",
      "iki nauju valnadu  12\n",
      "113 dienu 12 valandu 1 minuciu 11 sekundziu\n"
     ]
    }
   ],
   "source": [
    "dabar = datetime.now()\n",
    "naujakas = datetime(2023, 1, 1, 0, 0)\n",
    "iki_nauju = naujakas - dabar\n",
    "\n",
    "# .days grazina dienu skaiciu\n",
    "dienu = iki_nauju.days\n",
    "\n",
    "# .seconds grazina kiek dienu lieka sekundziu skaiciu\n",
    "valandu = iki_nauju.seconds // 60 // 60\n",
    "\n",
    "# kaip gauti iki naujuju metu laika\n",
    "print(\"iki nauju secundziu \", iki_nauju.seconds)\n",
    "print(\"iki nauju minuciu \", iki_nauju.seconds // 60)\n",
    "print(\"iki nauju valnadu \", iki_nauju.seconds // 60 // 60)\n",
    "\n",
    "# rezultatas \n",
    "minuciu = iki_nauju.seconds // 60 - valandu * 60\n",
    "sekundziu = iki_nauju.seconds - valandu * 60 * 60 - minuciu * 60\n",
    "print(dienu, \"dienu\", valandu, \"valandu\", minuciu, \"minuciu\", sekundziu, \"sekundziu\")"
   ]
  },
  {
   "cell_type": "code",
   "execution_count": 122,
   "metadata": {},
   "outputs": [
    {
     "name": "stdout",
     "output_type": "stream",
     "text": [
      "iki naujuju metu 163441 liko minuciu\n"
     ]
    }
   ],
   "source": [
    "print(\"iki naujuju metu %d\" % (iki_nauju.total_seconds() // 60), \"liko minuciu\")"
   ]
  },
  {
   "cell_type": "markdown",
   "metadata": {},
   "source": [
    "# lietuviskas datetime formatavimas"
   ]
  },
  {
   "cell_type": "code",
   "execution_count": 123,
   "metadata": {},
   "outputs": [
    {
     "name": "stdout",
     "output_type": "stream",
     "text": [
      "Sekmadienis, 2023 sausio 01 12:00 \n"
     ]
    }
   ],
   "source": [
    "import locale\n",
    "locale.setlocale(locale.LC_ALL, \"lt_LT.UTF-8\")\n",
    "print(naujakas.strftime(\"%A, %Y %B %d %I:%M %p\"))"
   ]
  }
 ],
 "metadata": {
  "kernelspec": {
   "display_name": "Python 3.10.6 ('venv': venv)",
   "language": "python",
   "name": "python3"
  },
  "language_info": {
   "codemirror_mode": {
    "name": "ipython",
    "version": 3
   },
   "file_extension": ".py",
   "mimetype": "text/x-python",
   "name": "python",
   "nbconvert_exporter": "python",
   "pygments_lexer": "ipython3",
   "version": "3.10.6"
  },
  "orig_nbformat": 4,
  "vscode": {
   "interpreter": {
    "hash": "0554f7b18533e7252936f1677319fe792fcfaa3b68a1b30b6f53e5a9d9de55c6"
   }
  }
 },
 "nbformat": 4,
 "nbformat_minor": 2
}
