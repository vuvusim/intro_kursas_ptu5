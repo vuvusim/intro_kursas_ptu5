{
 "cells": [
  {
   "cell_type": "code",
   "execution_count": 122,
   "metadata": {},
   "outputs": [
    {
     "name": "stdout",
     "output_type": "stream",
     "text": [
      "5 juoda\n",
      "4 Baltas\n",
      "5 juoda\n"
     ]
    }
   ],
   "source": [
    "# objekto sablonas\n",
    "class Kate:\n",
    "    kojos = 4\n",
    "    spalva = \"juoda\"\n",
    "\n",
    "# kintamajam priskiriam objekto sablona. jeigu ji keiciam, keiciasi visas sablonas o ne objektas\n",
    "miauklius = Kate() \n",
    "miauklius.kojos = 5 # beje tai nera praktikoje naudojama, ir skaitoma kaip programavimo klaida. Atributus keiciam objektui o ne klasei\n",
    "print(miauklius.kojos, miauklius.spalva)\n",
    "\n",
    "# sukuriam padaro objekta pagal kates sablona, ji inicijuodami su (). Keiciant padaro atributus, sablone ju reiksme nesikeis.\n",
    "padaras = Kate()\n",
    "padaras.spalva = \"Baltas\"\n",
    "padaras.kojos = 4\n",
    "print(padaras.kojos, padaras.spalva)\n",
    "print(miauklius.kojos, miauklius.spalva)\n"
   ]
  },
  {
   "cell_type": "code",
   "execution_count": 123,
   "metadata": {},
   "outputs": [
    {
     "name": "stdout",
     "output_type": "stream",
     "text": [
      "darau belenka\n"
     ]
    }
   ],
   "source": [
    "def daryk_kazka(kazkas):\n",
    "    print(\"darau\", kazkas)\n",
    "\n",
    "darymas = daryk_kazka\n",
    "darymas(\"belenka\")"
   ]
  },
  {
   "cell_type": "code",
   "execution_count": 124,
   "metadata": {},
   "outputs": [],
   "source": [
    "class Kate():\n",
    "    def __init__(self, spalva=\"juoda\", kojos=4): # self kreipiasi i objekta kuris buna sukurtas klases  ## () lemia eiliskumas\n",
    "        self.kojos = kojos # jei nori keisti objekto reiksmes parametru \n",
    "        self.spalva = spalva\n",
    "\n",
    "    def __str__(self):\n",
    "        return f\"Kate, {str(self.kojos)}-kojis, spalva: {self.spalva}\" \n",
    "\n",
    "    def _judinti_kojas(self):\n",
    "        pass\n",
    "\n",
    "    def _ziureti_kur_begi(self):\n",
    "        pass\n",
    "\n",
    "    def miaukseti(self, zinute=\"miau \", kartai=1):\n",
    "        print(zinute * kartai)\n",
    "\n",
    "    def begti(self):\n",
    "        self._judinti_kojas()\n",
    "        self._ziureti_kur_begi()\n",
    "        print(\"begu\")\n"
   ]
  },
  {
   "cell_type": "code",
   "execution_count": 125,
   "metadata": {},
   "outputs": [
    {
     "name": "stdout",
     "output_type": "stream",
     "text": [
      "4 juoda\n",
      "4 baltas\n",
      "pilkas 3\n"
     ]
    }
   ],
   "source": [
    "miauklius = Kate(\"juoda\")\n",
    "padaras = Kate(spalva=\"baltas\")\n",
    "vargsas = Kate(\"pilkas\", 3)\n",
    "\n",
    "print(miauklius.kojos, miauklius.spalva)\n",
    "print(padaras.kojos, padaras.spalva)\n",
    "print(vargsas.spalva, vargsas.kojos)"
   ]
  },
  {
   "cell_type": "code",
   "execution_count": 126,
   "metadata": {},
   "outputs": [
    {
     "name": "stdout",
     "output_type": "stream",
     "text": [
      "Kate, 4-kojis, spalva: juoda\n",
      "miau \n",
      "miaaaaauuu\n",
      "miau miau miau miau miau \n"
     ]
    }
   ],
   "source": [
    "print(miauklius)\n",
    "padaras.miaukseti()\n",
    "vargsas.miaukseti(\"miaaaaauuu\")\n",
    "miauklius.miaukseti(kartai = 5)"
   ]
  },
  {
   "cell_type": "code",
   "execution_count": 127,
   "metadata": {},
   "outputs": [
    {
     "name": "stdout",
     "output_type": "stream",
     "text": [
      "begu\n"
     ]
    }
   ],
   "source": [
    "padaras.begti()\n",
    "padaras._judinti_kojas()"
   ]
  },
  {
   "cell_type": "code",
   "execution_count": 128,
   "metadata": {},
   "outputs": [
    {
     "name": "stdout",
     "output_type": "stream",
     "text": [
      "<class 'str'>\n",
      "['Laba', 'diena']\n",
      "LABA DIENA\n"
     ]
    }
   ],
   "source": [
    "# inicijuojam str klases __init__ funkcija, jai paduodami argumenta \"Laba diena\"\n",
    "pasisveikinimas = str(\"Laba diena\")\n",
    "# tam sinonimas\n",
    "pasisveikinimas = \"Laba diena\"\n",
    "print(type(pasisveikinimas))\n",
    "print(pasisveikinimas.split())\n",
    "print(pasisveikinimas.upper())"
   ]
  },
  {
   "cell_type": "code",
   "execution_count": 129,
   "metadata": {},
   "outputs": [
    {
     "name": "stdout",
     "output_type": "stream",
     "text": [
      "<class 'int'>\n",
      "31\n"
     ]
    }
   ],
   "source": [
    "skaicius = 1234567890\n",
    "print(type(skaicius))\n",
    "print(skaicius.bit_length()) # kiek bitu uzima skaicius variable"
   ]
  },
  {
   "cell_type": "code",
   "execution_count": 133,
   "metadata": {},
   "outputs": [
    {
     "name": "stdout",
     "output_type": "stream",
     "text": [
      "Kate, 4-kojis, spalva: Juodas\n",
      "begu\n",
      "miau \n",
      "Kate, 4-kojis, spalva: juoda\n",
      "begu\n",
      "miau \n",
      "Kate, 4-kojis, spalva: zalia\n",
      "begu\n",
      "miau \n",
      "betkas\n",
      "Kate, 4-kojis, spalva: geltonas\n",
      "begu\n",
      "miau \n",
      "Kate, 0-kojis, spalva: permatomas\n",
      "begu\n",
      "miau \n"
     ]
    }
   ],
   "source": [
    "kates = []\n",
    "kates.append(Kate(\"Juodas\"))\n",
    "kates.append(Kate(\"juoda\"))\n",
    "kates.append(Kate(\"zalia\"))\n",
    "kates.append(\"betkas\")\n",
    "kates.append(Kate(\"geltonas\"))\n",
    "kates.append(Kate(\"permatomas\", 0))\n",
    "\n",
    "for kate in kates:\n",
    "    print(kate)\n",
    "    if type(kate) == Kate:\n",
    "        kate.begti()\n",
    "        kate.miaukseti()"
   ]
  },
  {
   "cell_type": "code",
   "execution_count": 134,
   "metadata": {},
   "outputs": [
    {
     "name": "stdout",
     "output_type": "stream",
     "text": [
      "Kate, 4-kojis, spalva: Juodas\n",
      "begu\n",
      "miau \n",
      "Kate, 4-kojis, spalva: juoda\n",
      "begu\n",
      "miau \n",
      "Kate, 4-kojis, spalva: zalia\n",
      "begu\n",
      "miau \n",
      "betkas\n",
      "tik kates gali begti ir miaukti, klaida:  <class 'AttributeError'> 'str' object has no attribute 'begti'\n",
      "Kate, 4-kojis, spalva: geltonas\n",
      "begu\n",
      "miau \n",
      "Kate, 0-kojis, spalva: permatomas\n",
      "begu\n",
      "miau \n"
     ]
    }
   ],
   "source": [
    "for kate in kates:\n",
    "    print(kate)\n",
    "    try:\n",
    "        kate.begti()\n",
    "        kate.miaukseti()\n",
    "    except Exception as e:\n",
    "        print(\"tik kates gali begti ir miaukti, klaida: \", e.__class__, e)"
   ]
  }
 ],
 "metadata": {
  "kernelspec": {
   "display_name": "Python 3.10.6 ('venv': venv)",
   "language": "python",
   "name": "python3"
  },
  "language_info": {
   "codemirror_mode": {
    "name": "ipython",
    "version": 3
   },
   "file_extension": ".py",
   "mimetype": "text/x-python",
   "name": "python",
   "nbconvert_exporter": "python",
   "pygments_lexer": "ipython3",
   "version": "3.10.6"
  },
  "orig_nbformat": 4,
  "vscode": {
   "interpreter": {
    "hash": "0554f7b18533e7252936f1677319fe792fcfaa3b68a1b30b6f53e5a9d9de55c6"
   }
  }
 },
 "nbformat": 4,
 "nbformat_minor": 2
}
