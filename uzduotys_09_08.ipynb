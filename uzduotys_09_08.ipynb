{
 "cells": [
  {
   "cell_type": "code",
   "execution_count": 12,
   "metadata": {},
   "outputs": [
    {
     "name": "stdout",
     "output_type": "stream",
     "text": [
      "zodzio ilgis: 8, didziuju raidziu: 2, mazuju raidziu 3, skaiciu: 3\n"
     ]
    }
   ],
   "source": [
    "# Sukurkite ir išsibandykite funkcijas, kurios:\n",
    "\n",
    "#     Gražinti trijų paduotų skaičių sumą.\n",
    "#     Gražintų paduoto sąrašo iš skaičių, sumą.\n",
    "#     Atspausdintų didžiausią iš kelių paduotų skaičių (panaudojant *args).\n",
    "#     Gražintų paduotą stringą atbulai.\n",
    "#     Atspausdintų, kiek paduotame stringe yra žodžių, didžiųjų ir mažųjų raidžių, skaičių.\n",
    "#     Gražintų sąrašą tik su unikaliais paduoto sąrašo elementais.\n",
    "#     Gražintų, ar paduotas skaičius yra pirminis.\n",
    "#     Išrikiuotų paduoto stringo žodžius nuo paskutinio iki pirmojo\n",
    "#     Gražina, ar paduoti metai yra keliamieji, ar ne.\n",
    "#     Atspausdina, kiek nuo paduotos sukakties praėjo metų, mėnesių, dienų, valandų, minučių, sekundžių.\n",
    "\n",
    "\n",
    "\n",
    "\n",
    "\n",
    "# def skaiciai(a, b, c):\n",
    "#     return a + b + c\n",
    "# print(skaiciai(1, 2, 3))\n",
    "\n",
    "\n",
    "\n",
    "# # print(didziausias_skaicius())\n",
    "\n",
    "# def sumuojam_sarasa(skaiciai):\n",
    "#     suma = 0\n",
    "#     for skaicius in skaiciai:\n",
    "#         suma += skaicius\n",
    "#     return suma\n",
    "\n",
    "# print(sumuojam_sarasa([1, 2, 3]))\n",
    "\n",
    "\n",
    "# def didziausias_skaicius(*args):\n",
    "#     didziausias = args[0]\n",
    "#     for skaicius in args:\n",
    "#         if skaicius > didziausias:\n",
    "#             didziausias = skaicius  \n",
    "#     return didziausias\n",
    "\n",
    "# print(didziausias_skaicius(10, 55, 34, 78, 2))\n",
    "\n",
    "\n",
    "# def zodziai(stringas):\n",
    "#     print(stringas[::-1])\n",
    "\n",
    "# print(zodziai(\"Labas Krabas\"))\n",
    "\n",
    "\n",
    "#     Atspausdintų, kiek paduotame stringe yra žodžių, didžiųjų ir mažųjų raidžių, skaičių.\n",
    "\n",
    "def kiek_yra(zodis):\n",
    "    mazos = 0\n",
    "    dideles = 0\n",
    "    skaiciai = 0\n",
    "    for raide in zodis:\n",
    "        if raide.isupper():\n",
    "            dideles += 1\n",
    "        elif raide.islower():\n",
    "            mazos += 1\n",
    "        elif raide.isnumeric():\n",
    "            skaiciai += 1\n",
    "        # else:\n",
    "        #     kitkas += 1\n",
    "\n",
    "    print(f\"zodzio ilgis: {len(zodis)}, didziuju raidziu: {dideles}, mazuju raidziu {mazos}, skaiciu: {skaiciai}\")\n",
    "\n",
    "kiek_yra(\"AaAaa555\")\n",
    "\n",
    "\n",
    "\n",
    "\n",
    "\n"
   ]
  }
 ],
 "metadata": {
  "kernelspec": {
   "display_name": "Python 3.10.6 ('venv': venv)",
   "language": "python",
   "name": "python3"
  },
  "language_info": {
   "codemirror_mode": {
    "name": "ipython",
    "version": 3
   },
   "file_extension": ".py",
   "mimetype": "text/x-python",
   "name": "python",
   "nbconvert_exporter": "python",
   "pygments_lexer": "ipython3",
   "version": "3.10.6"
  },
  "orig_nbformat": 4,
  "vscode": {
   "interpreter": {
    "hash": "0554f7b18533e7252936f1677319fe792fcfaa3b68a1b30b6f53e5a9d9de55c6"
   }
  }
 },
 "nbformat": 4,
 "nbformat_minor": 2
}
