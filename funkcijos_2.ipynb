{
 "cells": [
  {
   "cell_type": "markdown",
   "metadata": {},
   "source": [
    "# globa/local kintamieji\n"
   ]
  },
  {
   "cell_type": "code",
   "execution_count": 3,
   "metadata": {},
   "outputs": [
    {
     "name": "stdout",
     "output_type": "stream",
     "text": [
      "22\n"
     ]
    }
   ],
   "source": [
    "globalus = 10\n",
    "\n",
    "def funkcija():\n",
    "    lokalus = 12\n",
    "    suma = globalus + lokalus\n",
    "    print(suma)\n",
    "\n",
    "funkcija()\n",
    "# suma = globalus + lokalus"
   ]
  },
  {
   "cell_type": "code",
   "execution_count": 9,
   "metadata": {},
   "outputs": [
    {
     "name": "stdout",
     "output_type": "stream",
     "text": [
      "21\n",
      "12\n",
      "1\n",
      "7\n"
     ]
    }
   ],
   "source": [
    "def funkcija(argas=10):\n",
    "    lokalus = 12\n",
    "    suma = argas + lokalus\n",
    "    print(suma)\n",
    "    return lokalus\n",
    "\n",
    "def funkcija2(argas=8):\n",
    "    lokalus = 7 \n",
    "    skirtumas = argas - lokalus\n",
    "    print(skirtumas)\n",
    "    return lokalus\n",
    "\n",
    "\n",
    "vienas = funkcija(9)\n",
    "print(vienas)\n",
    "\n",
    "kitas = funkcija2()\n",
    "print(kitas)\n",
    "print(vienas)\n"
   ]
  }
 ],
 "metadata": {
  "kernelspec": {
   "display_name": "Python 3.10.6 ('venv': venv)",
   "language": "python",
   "name": "python3"
  },
  "language_info": {
   "codemirror_mode": {
    "name": "ipython",
    "version": 3
   },
   "file_extension": ".py",
   "mimetype": "text/x-python",
   "name": "python",
   "nbconvert_exporter": "python",
   "pygments_lexer": "ipython3",
   "version": "3.10.6"
  },
  "orig_nbformat": 4,
  "vscode": {
   "interpreter": {
    "hash": "0554f7b18533e7252936f1677319fe792fcfaa3b68a1b30b6f53e5a9d9de55c6"
   }
  }
 },
 "nbformat": 4,
 "nbformat_minor": 2
}
