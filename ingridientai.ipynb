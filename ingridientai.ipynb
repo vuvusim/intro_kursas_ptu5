{
 "cells": [
  {
   "cell_type": "markdown",
   "metadata": {},
   "source": [
    "## 2. Receptų knyga\n",
    "* Sukurkite Patiekalo klasę, kuri gali turėti ingridiento objektus\n",
    "* ingridientai turi turėti tokias savybes kaip pavadinimas, kiekis, mato vienetas, kaina.\n",
    "* Patiekalui sukurkite metodą, kuris pateiktų sąrašą ingridientų ir suskaičiuotų savikainą.\n",
    "### nevaikiška bonus dalis\n",
    "* Sukurkite klasę alkoholiniam gėrimui, kuris paveldėtų ingridiento klasę. Papildomas atributas - alkoholio procentinė dalis.\n",
    "* Sukurkite kokteilio klasę, kuri paveldėtų patiekalą. Kokteilis turi turėti metodą, leidžiantį suskaičiuoti efektyvia alkoholio dalį kokteilyje."
   ]
  },
  {
   "cell_type": "code",
   "execution_count": 5,
   "metadata": {},
   "outputs": [
    {
     "name": "stdout",
     "output_type": "stream",
     "text": [
      "2.5\n",
      "0.218\n"
     ]
    }
   ],
   "source": [
    "class Ingridientas():\n",
    "\n",
    "    def __init__(self, pavadinimas, kiekis, vieneto_kaina=1, mato_vienetas=\"vnt.\"):\n",
    "        self.pavadinimas = pavadinimas\n",
    "        self.kiekis = kiekis\n",
    "        self.vieneto_kaina = vieneto_kaina\n",
    "        self.mato_vienetas = mato_vienetas\n",
    "\n",
    "    @property\n",
    "    def savikaina(self):\n",
    "        return self.kiekis * self.vieneto_kaina\n",
    "\n",
    "class SveriamasIngridientas(Ingridientas):\n",
    "    def __init__(self, pavadinimas, kiekis, vieneto_kaina=1, mato_vienetas=\"g\"):\n",
    "        super().__init__(pavadinimas, kiekis, vieneto_kaina, mato_vienetas)\n",
    "\n",
    "    @property\n",
    "    def savikaina(self):\n",
    "        if self.mato_vienetas.casefold().startswith(\"kg\"):\n",
    "            return self.kiekis * self.vieneto_kaina\n",
    "        elif self.mato_vienetas.casefold().startswith(\"g\"):\n",
    "            return round(self.kiekis * self.vieneto_kaina / 1000 , 3)\n",
    "        \n",
    "\n",
    "obuolys = Ingridientas(\"obuoliai\", 5, 0.5)\n",
    "print(obuolys.savikaina)\n",
    "\n",
    "vynuoges = SveriamasIngridientas(\"zalios vynuoges\", 100, 2.18, \"g\")\n",
    "print(vynuoges.savikaina)\n",
    "    "
   ]
  },
  {
   "cell_type": "code",
   "execution_count": 6,
   "metadata": {},
   "outputs": [
    {
     "name": "stdout",
     "output_type": "stream",
     "text": [
      "2.718\n"
     ]
    }
   ],
   "source": [
    "class Patiekalas:\n",
    "    ingridientai = []\n",
    "\n",
    "    def prideti_ingridienta(self, ingridientas):\n",
    "        self.ingridientai.append(ingridientas)\n",
    "\n",
    "    @property\n",
    "    def savikaina(self):\n",
    "        return sum([ingridientas.savikaina for ingridientas in self.ingridientai])\n",
    "\n",
    "obuoliene = Patiekalas()\n",
    "obuoliene.prideti_ingridienta(obuolys)\n",
    "obuoliene.prideti_ingridienta(vynuoges)\n",
    "print(obuoliene.savikaina)"
   ]
  }
 ],
 "metadata": {
  "kernelspec": {
   "display_name": "Python 3.10.6 ('venv': venv)",
   "language": "python",
   "name": "python3"
  },
  "language_info": {
   "codemirror_mode": {
    "name": "ipython",
    "version": 3
   },
   "file_extension": ".py",
   "mimetype": "text/x-python",
   "name": "python",
   "nbconvert_exporter": "python",
   "pygments_lexer": "ipython3",
   "version": "3.10.6"
  },
  "orig_nbformat": 4,
  "vscode": {
   "interpreter": {
    "hash": "0554f7b18533e7252936f1677319fe792fcfaa3b68a1b30b6f53e5a9d9de55c6"
   }
  }
 },
 "nbformat": 4,
 "nbformat_minor": 2
}
