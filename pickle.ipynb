{
 "cells": [
  {
   "cell_type": "code",
   "execution_count": 9,
   "metadata": {},
   "outputs": [],
   "source": [
    "import pickle"
   ]
  },
  {
   "cell_type": "code",
   "execution_count": 10,
   "metadata": {},
   "outputs": [],
   "source": [
    "a = 1024\n",
    "\n",
    "# atsidarom faila \"a.pkl\" binariniam rasymui kaip pickle_out\n",
    "with open(\"Naujas/a.pkl\", \"wb\") as pickle_out:\n",
    "\n",
    "    # irasome a kintamaji i pickle_out faila\n",
    "    pickle.dump(a, pickle_out)"
   ]
  },
  {
   "cell_type": "code",
   "execution_count": 11,
   "metadata": {},
   "outputs": [
    {
     "name": "stdout",
     "output_type": "stream",
     "text": [
      "1024\n",
      "<class 'int'>\n"
     ]
    }
   ],
   "source": [
    "# atsidarome faila \"a.pkl\" binariniam skaitymui kaip pickle_in\n",
    "with open(\"Naujas/a.pkl\", \"rb\") as pickle_in:\n",
    "\n",
    "    # i kintamaji naujas_a parsitraukiam is failo pickle_in duomenis\n",
    "    naujas_a = pickle.load(pickle_in)\n",
    "    \n",
    "    # spausdinam \n",
    "    print(naujas_a)\n",
    "    print(type(naujas_a))"
   ]
  },
  {
   "cell_type": "markdown",
   "metadata": {},
   "source": [
    "# masyvai (sarasai, zodynai) i pickle"
   ]
  },
  {
   "cell_type": "code",
   "execution_count": 12,
   "metadata": {},
   "outputs": [
    {
     "name": "stdout",
     "output_type": "stream",
     "text": [
      "7\n",
      "5\n",
      "3\n",
      "11\n",
      "-9\n",
      "5\n",
      "7\n",
      "7\n"
     ]
    }
   ],
   "source": [
    "sarasas = [7, 5, 3, 11, -9, 5, 7, 7]\n",
    "\n",
    "with open(\"Naujas/sarasas.pkl\", \"wb\") as pickle_out:\n",
    "    pickle.dump(sarasas, pickle_out)\n",
    "\n",
    "with open(\"Naujas/sarasas.pkl\", \"rb\") as pickle_in:\n",
    "    naujas_sarasas = pickle.load(pickle_in)\n",
    "\n",
    "for skaicius in naujas_sarasas:\n",
    "    print(skaicius)\n"
   ]
  },
  {
   "cell_type": "markdown",
   "metadata": {},
   "source": [
    "# keli kintamieji i pickle faila"
   ]
  },
  {
   "cell_type": "code",
   "execution_count": 13,
   "metadata": {},
   "outputs": [],
   "source": [
    "a = 99\n",
    "b = 77\n",
    "c = -1\n",
    "with open(\"Naujas/daug.pkl\", \"wb\") as pickle_out:\n",
    "    pickle.dump(a, pickle_out)\n",
    "    pickle.dump(b, pickle_out)\n",
    "    pickle.dump(c, pickle_out)\n"
   ]
  },
  {
   "cell_type": "code",
   "execution_count": 14,
   "metadata": {},
   "outputs": [
    {
     "name": "stdout",
     "output_type": "stream",
     "text": [
      "99 77 -1\n"
     ]
    }
   ],
   "source": [
    "with open(\"Naujas/daug.pkl\", \"rb\") as pickle_in:\n",
    "    naujas_a = pickle.load(pickle_in)\n",
    "    naujas_b = pickle.load(pickle_in)\n",
    "    naujas_c = pickle.load(pickle_in)\n",
    "print(naujas_a, naujas_b, naujas_c)"
   ]
  },
  {
   "cell_type": "code",
   "execution_count": 15,
   "metadata": {},
   "outputs": [
    {
     "name": "stdout",
     "output_type": "stream",
     "text": [
      "99\n",
      "77\n",
      "-1\n",
      "viskas\n"
     ]
    }
   ],
   "source": [
    "# jei nezinom kiek yra kintamuju faile tai taip mes juos galime pasiimti ir pasiziureti\n",
    "with open(\"Naujas/daug.pkl\", \"rb\") as pickle_in:\n",
    "    while True:\n",
    "        try:\n",
    "            print(pickle.load(pickle_in))\n",
    "        except EOFError:\n",
    "            print(\"viskas\")\n",
    "            break"
   ]
  }
 ],
 "metadata": {
  "kernelspec": {
   "display_name": "Python 3.10.6 ('venv': venv)",
   "language": "python",
   "name": "python3"
  },
  "language_info": {
   "codemirror_mode": {
    "name": "ipython",
    "version": 3
   },
   "file_extension": ".py",
   "mimetype": "text/x-python",
   "name": "python",
   "nbconvert_exporter": "python",
   "pygments_lexer": "ipython3",
   "version": "3.10.6"
  },
  "orig_nbformat": 4,
  "vscode": {
   "interpreter": {
    "hash": "0554f7b18533e7252936f1677319fe792fcfaa3b68a1b30b6f53e5a9d9de55c6"
   }
  }
 },
 "nbformat": 4,
 "nbformat_minor": 2
}
