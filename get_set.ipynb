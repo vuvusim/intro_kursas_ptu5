{
 "cells": [
  {
   "cell_type": "markdown",
   "metadata": {},
   "source": [
    "# Dekoruoti (get) (setter)"
   ]
  },
  {
   "cell_type": "code",
   "execution_count": 29,
   "metadata": {},
   "outputs": [],
   "source": [
    "class Darbuotojas():\n",
    "    def __init__(self, vardas, pavarde, atluginimas=0):\n",
    "        self.vardas = vardas\n",
    "        self.pavarde = pavarde\n",
    "        self.__atlyginimas = atluginimas\n",
    "\n",
    "    # gauname atlyginimas per dekoruota metoda    \n",
    "    @property\n",
    "    def atlyginimas(self):\n",
    "        return self.__atlyginimas\n",
    "\n",
    "    # priskiriame per dekoruota setterio metoda\n",
    "    @atlyginimas.setter\n",
    "    def atlyginimas(self, naujas_atlyginimas):\n",
    "        if naujas_atlyginimas < 0:\n",
    "            print(\"Atlyginimas turi buti teigiamas\")\n",
    "        else: \n",
    "            self.__atlyginimas = naujas_atlyginimas"
   ]
  },
  {
   "cell_type": "code",
   "execution_count": 30,
   "metadata": {},
   "outputs": [
    {
     "name": "stdout",
     "output_type": "stream",
     "text": [
      "1000\n",
      "Atlyginimas turi buti teigiamas\n",
      "1000\n",
      "1000\n"
     ]
    }
   ],
   "source": [
    "destytojas = Darbuotojas(\"Kestutitns\", \"Januskevicius\", 1000)\n",
    "# destytojas.atlyginimas = -100\n",
    "print(destytojas.atlyginimas)\n",
    "\n",
    "destytojas.atlyginimas = -100\n",
    "print(destytojas.atlyginimas)\n",
    "\n",
    "destytojas.atlyginimas = 1000\n",
    "print(destytojas.atlyginimas)"
   ]
  },
  {
   "cell_type": "markdown",
   "metadata": {},
   "source": [
    "# savybes priskyrimas ir gavimas naudojant set_ ir get_ metodus"
   ]
  },
  {
   "cell_type": "code",
   "execution_count": 31,
   "metadata": {},
   "outputs": [],
   "source": [
    "class Darbuotojas:\n",
    "    def __init__(self, vardas, pavarde, atlyginimas=0):\n",
    "        self.vardas = vardas\n",
    "        self.pavarde = pavarde\n",
    "        self.__atlyginimas = atlyginimas\n",
    "\n",
    "    def get_atlyginimas(self):\n",
    "        return self.__atlyginimas\n",
    "\n",
    "    def set_atlyginimas(self, naujas_atlyginimas):\n",
    "        if naujas_atlyginimas < 0:\n",
    "            print(\"Atlyginimas turi būti teigiamas\")\n",
    "        else:\n",
    "            self.__atlyginimas = naujas_atlyginimas\n"
   ]
  },
  {
   "cell_type": "code",
   "execution_count": 32,
   "metadata": {},
   "outputs": [
    {
     "name": "stdout",
     "output_type": "stream",
     "text": [
      "1000\n",
      "Atlyginimas turi būti teigiamas\n",
      "1000\n",
      "4000\n"
     ]
    }
   ],
   "source": [
    "destytojas = Darbuotojas(\"Kestutis\", \"Januskevicius\", 1000)\n",
    "# destytojas.atlyginimas = -100\n",
    "print(destytojas.get_atlyginimas())\n",
    "\n",
    "destytojas.set_atlyginimas(-100)\n",
    "print(destytojas.get_atlyginimas())\n",
    "\n",
    "destytojas.set_atlyginimas(4000)\n",
    "print(destytojas.get_atlyginimas())"
   ]
  }
 ],
 "metadata": {
  "kernelspec": {
   "display_name": "Python 3.10.6 ('venv': venv)",
   "language": "python",
   "name": "python3"
  },
  "language_info": {
   "codemirror_mode": {
    "name": "ipython",
    "version": 3
   },
   "file_extension": ".py",
   "mimetype": "text/x-python",
   "name": "python",
   "nbconvert_exporter": "python",
   "pygments_lexer": "ipython3",
   "version": "3.10.6"
  },
  "orig_nbformat": 4,
  "vscode": {
   "interpreter": {
    "hash": "0554f7b18533e7252936f1677319fe792fcfaa3b68a1b30b6f53e5a9d9de55c6"
   }
  }
 },
 "nbformat": 4,
 "nbformat_minor": 2
}
